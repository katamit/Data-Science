{
 "cells": [
  {
   "cell_type": "code",
   "execution_count": 135,
   "metadata": {},
   "outputs": [],
   "source": [
    "\n",
    "import pandas as pd\n",
    "import numpy as np\n",
    "# pd.set_option()\n",
    "import matplotlib.pyplot as plt\n",
    "\n",
    "\n",
    "pd.set_option('display.max_columns',50)\n",
    "\n",
    "train = pd.read_csv('./Data/Yes_ml2_train.csv')\n",
    "\n",
    "# print(train.shape,'\\n')\n",
    "# print(train.info(),'\\n')\n",
    "# print(train.describe().T,'\\n')\n",
    "# print(train.head(20),'\\n')\n",
    "# print(train.tail(20),'\\n')"
   ]
  },
  {
   "cell_type": "code",
   "execution_count": 136,
   "metadata": {},
   "outputs": [],
   "source": [
    "train = train[['Serial Number','2010 Deposits','2011 Deposits','2012 Deposits', '2013 Deposits', '2014 Deposits',\n",
    "       '2015 Deposits', '2016 Deposits']]"
   ]
  },
  {
   "cell_type": "code",
   "execution_count": 137,
   "metadata": {},
   "outputs": [],
   "source": [
    "from sklearn.preprocessing import Imputer\n",
    "mean_imputer = Imputer()\n",
    "median_imputer = Imputer(strategy='median')\n"
   ]
  },
  {
   "cell_type": "code",
   "execution_count": 138,
   "metadata": {},
   "outputs": [],
   "source": [
    "cols = ['2010 Deposits','2011 Deposits','2012 Deposits', '2013 Deposits', '2014 Deposits',\n",
    "       '2015 Deposits']\n",
    "for col in cols:\n",
    "    train[col]  = mean_imputer.fit_transform(train[[col]]).ravel()\n",
    "# train['log_2015'].impute('mean')\n",
    "\n",
    "# train['log_2014'].describe()"
   ]
  },
  {
   "cell_type": "code",
   "execution_count": 139,
   "metadata": {},
   "outputs": [],
   "source": [
    "# logs= ['log_2015', 'log_2014', 'log_2012', 'log_2013']\n",
    "\n",
    "for log in cols :\n",
    "    iqr = train[log].quantile(0.75) - train[log].quantile(0.25)\n",
    "# print(iqr)\n",
    "    start = train[log].quantile(0.25) - 1.5*iqr\n",
    "    end = train[log].quantile(0.75) + 1.5*iqr\n",
    "# print(start)\n",
    "# print(end)\n",
    "    train = train.loc[(start < train[log]) & (train[log]< end)]  "
   ]
  },
  {
   "cell_type": "code",
   "execution_count": null,
   "metadata": {},
   "outputs": [],
   "source": []
  },
  {
   "cell_type": "code",
   "execution_count": 140,
   "metadata": {},
   "outputs": [
    {
     "name": "stdout",
     "output_type": "stream",
     "text": [
      "(3436, 8)\n"
     ]
    },
    {
     "data": {
      "text/html": [
       "<div>\n",
       "<style scoped>\n",
       "    .dataframe tbody tr th:only-of-type {\n",
       "        vertical-align: middle;\n",
       "    }\n",
       "\n",
       "    .dataframe tbody tr th {\n",
       "        vertical-align: top;\n",
       "    }\n",
       "\n",
       "    .dataframe thead th {\n",
       "        text-align: right;\n",
       "    }\n",
       "</style>\n",
       "<table border=\"1\" class=\"dataframe\">\n",
       "  <thead>\n",
       "    <tr style=\"text-align: right;\">\n",
       "      <th></th>\n",
       "      <th>Serial Number</th>\n",
       "      <th>2010 Deposits</th>\n",
       "      <th>2011 Deposits</th>\n",
       "      <th>2012 Deposits</th>\n",
       "      <th>2013 Deposits</th>\n",
       "      <th>2014 Deposits</th>\n",
       "      <th>2015 Deposits</th>\n",
       "      <th>2016 Deposits</th>\n",
       "    </tr>\n",
       "  </thead>\n",
       "  <tbody>\n",
       "    <tr>\n",
       "      <th>count</th>\n",
       "      <td>3436.000000</td>\n",
       "      <td>3436.000000</td>\n",
       "      <td>3436.000000</td>\n",
       "      <td>3436.000000</td>\n",
       "      <td>3436.000000</td>\n",
       "      <td>3436.000000</td>\n",
       "      <td>3436.000000</td>\n",
       "      <td>3436.000000</td>\n",
       "    </tr>\n",
       "    <tr>\n",
       "      <th>mean</th>\n",
       "      <td>1942.200524</td>\n",
       "      <td>53711.883513</td>\n",
       "      <td>53311.023118</td>\n",
       "      <td>49803.121558</td>\n",
       "      <td>49528.695844</td>\n",
       "      <td>51098.466643</td>\n",
       "      <td>56223.172584</td>\n",
       "      <td>65429.800349</td>\n",
       "    </tr>\n",
       "    <tr>\n",
       "      <th>std</th>\n",
       "      <td>1108.569564</td>\n",
       "      <td>38780.542493</td>\n",
       "      <td>40611.841731</td>\n",
       "      <td>37466.555181</td>\n",
       "      <td>35644.171205</td>\n",
       "      <td>34283.068170</td>\n",
       "      <td>35509.192187</td>\n",
       "      <td>40296.586786</td>\n",
       "    </tr>\n",
       "    <tr>\n",
       "      <th>min</th>\n",
       "      <td>1.000000</td>\n",
       "      <td>0.000000</td>\n",
       "      <td>0.000000</td>\n",
       "      <td>0.000000</td>\n",
       "      <td>0.000000</td>\n",
       "      <td>0.000000</td>\n",
       "      <td>0.000000</td>\n",
       "      <td>0.000000</td>\n",
       "    </tr>\n",
       "    <tr>\n",
       "      <th>25%</th>\n",
       "      <td>942.750000</td>\n",
       "      <td>20926.500000</td>\n",
       "      <td>21000.000000</td>\n",
       "      <td>20818.750000</td>\n",
       "      <td>22198.000000</td>\n",
       "      <td>24661.000000</td>\n",
       "      <td>28869.500000</td>\n",
       "      <td>35361.000000</td>\n",
       "    </tr>\n",
       "    <tr>\n",
       "      <th>50%</th>\n",
       "      <td>2034.500000</td>\n",
       "      <td>41462.500000</td>\n",
       "      <td>40136.500000</td>\n",
       "      <td>39437.000000</td>\n",
       "      <td>40282.000000</td>\n",
       "      <td>43078.500000</td>\n",
       "      <td>48237.500000</td>\n",
       "      <td>56372.500000</td>\n",
       "    </tr>\n",
       "    <tr>\n",
       "      <th>75%</th>\n",
       "      <td>2906.250000</td>\n",
       "      <td>91551.250000</td>\n",
       "      <td>80282.250000</td>\n",
       "      <td>70923.500000</td>\n",
       "      <td>69885.750000</td>\n",
       "      <td>71765.500000</td>\n",
       "      <td>77922.750000</td>\n",
       "      <td>88527.000000</td>\n",
       "    </tr>\n",
       "    <tr>\n",
       "      <th>max</th>\n",
       "      <td>3772.000000</td>\n",
       "      <td>217790.000000</td>\n",
       "      <td>139699.000000</td>\n",
       "      <td>142428.000000</td>\n",
       "      <td>145246.000000</td>\n",
       "      <td>148199.000000</td>\n",
       "      <td>155387.000000</td>\n",
       "      <td>247389.000000</td>\n",
       "    </tr>\n",
       "  </tbody>\n",
       "</table>\n",
       "</div>"
      ],
      "text/plain": [
       "       Serial Number  2010 Deposits  2011 Deposits  2012 Deposits  \\\n",
       "count    3436.000000    3436.000000    3436.000000    3436.000000   \n",
       "mean     1942.200524   53711.883513   53311.023118   49803.121558   \n",
       "std      1108.569564   38780.542493   40611.841731   37466.555181   \n",
       "min         1.000000       0.000000       0.000000       0.000000   \n",
       "25%       942.750000   20926.500000   21000.000000   20818.750000   \n",
       "50%      2034.500000   41462.500000   40136.500000   39437.000000   \n",
       "75%      2906.250000   91551.250000   80282.250000   70923.500000   \n",
       "max      3772.000000  217790.000000  139699.000000  142428.000000   \n",
       "\n",
       "       2013 Deposits  2014 Deposits  2015 Deposits  2016 Deposits  \n",
       "count    3436.000000    3436.000000    3436.000000    3436.000000  \n",
       "mean    49528.695844   51098.466643   56223.172584   65429.800349  \n",
       "std     35644.171205   34283.068170   35509.192187   40296.586786  \n",
       "min         0.000000       0.000000       0.000000       0.000000  \n",
       "25%     22198.000000   24661.000000   28869.500000   35361.000000  \n",
       "50%     40282.000000   43078.500000   48237.500000   56372.500000  \n",
       "75%     69885.750000   71765.500000   77922.750000   88527.000000  \n",
       "max    145246.000000  148199.000000  155387.000000  247389.000000  "
      ]
     },
     "execution_count": 140,
     "metadata": {},
     "output_type": "execute_result"
    }
   ],
   "source": [
    "print(train.shape)\n",
    "train.describe()"
   ]
  },
  {
   "cell_type": "code",
   "execution_count": 82,
   "metadata": {},
   "outputs": [],
   "source": [
    "from sklearn.preprocessing import StandardScaler, MinMaxScaler"
   ]
  },
  {
   "cell_type": "code",
   "execution_count": 100,
   "metadata": {},
   "outputs": [],
   "source": [
    "stdScaler = StandardScaler()\n",
    "mnScaler = MinMaxScaler()"
   ]
  },
  {
   "cell_type": "code",
   "execution_count": 62,
   "metadata": {},
   "outputs": [],
   "source": [
    "train_d = stdScaler.fit(train)"
   ]
  },
  {
   "cell_type": "code",
   "execution_count": 63,
   "metadata": {},
   "outputs": [
    {
     "data": {
      "text/plain": [
       "StandardScaler(copy=True, with_mean=True, with_std=True)"
      ]
     },
     "execution_count": 63,
     "metadata": {},
     "output_type": "execute_result"
    }
   ],
   "source": [
    "train_d"
   ]
  },
  {
   "cell_type": "code",
   "execution_count": null,
   "metadata": {},
   "outputs": [],
   "source": []
  },
  {
   "cell_type": "code",
   "execution_count": null,
   "metadata": {},
   "outputs": [],
   "source": []
  },
  {
   "cell_type": "code",
   "execution_count": 35,
   "metadata": {},
   "outputs": [],
   "source": [
    "from sklearn.model_selection import train_test_split\n",
    "from sklearn.metrics import mean_absolute_error, mean_squared_error"
   ]
  },
  {
   "cell_type": "code",
   "execution_count": 141,
   "metadata": {},
   "outputs": [],
   "source": [
    "train_select = train[['2010 Deposits','2011 Deposits','2012 Deposits', '2013 Deposits', '2014 Deposits','2015 Deposits', '2016 Deposits']]"
   ]
  },
  {
   "cell_type": "code",
   "execution_count": 142,
   "metadata": {},
   "outputs": [],
   "source": [
    "target = train_select['2016 Deposits']\n",
    "predictors = train_select.drop(['2016 Deposits'],axis=1)"
   ]
  },
  {
   "cell_type": "code",
   "execution_count": 143,
   "metadata": {},
   "outputs": [
    {
     "data": {
      "text/plain": [
       "2010 Deposits    0\n",
       "2011 Deposits    0\n",
       "2012 Deposits    0\n",
       "2013 Deposits    0\n",
       "2014 Deposits    0\n",
       "2015 Deposits    0\n",
       "dtype: int64"
      ]
     },
     "execution_count": 143,
     "metadata": {},
     "output_type": "execute_result"
    }
   ],
   "source": [
    "predictors.isnull().sum()"
   ]
  },
  {
   "cell_type": "code",
   "execution_count": 144,
   "metadata": {},
   "outputs": [],
   "source": [
    "X_train, X_test, Y_train, Y_test = train_test_split(predictors, target, train_size=0.8,test_size=0.2, random_state=7)"
   ]
  },
  {
   "cell_type": "code",
   "execution_count": 110,
   "metadata": {},
   "outputs": [],
   "source": [
    "X_train = stdScaler.fit_transform(X_train)\n",
    "X_test = stdScaler.transform(X_test)\n",
    "\n",
    "# X_train = mnScaler.fit_transform(X_train)\n",
    "# X_test = mnScaler.transform(X_test)"
   ]
  },
  {
   "cell_type": "code",
   "execution_count": 145,
   "metadata": {},
   "outputs": [],
   "source": [
    "from sklearn import linear_model, svm, tree, ensemble\n",
    "\n",
    "models = [\n",
    "    linear_model.LinearRegression(),\n",
    "    linear_model.Ridge(),\n",
    "    linear_model.Lasso(),\n",
    "    linear_model.ElasticNet(),\n",
    "    linear_model.BayesianRidge(),\n",
    "#     linear_model.RANSACRegressor(),\n",
    "    svm.LinearSVR(),\n",
    "    svm.SVR(),\n",
    "    tree.DecisionTreeRegressor(),\n",
    "    tree.ExtraTreeRegressor(),\n",
    "    ensemble.RandomForestRegressor(),\n",
    "    ensemble.GradientBoostingRegressor()\n",
    "\n",
    "]"
   ]
  },
  {
   "cell_type": "code",
   "execution_count": 146,
   "metadata": {},
   "outputs": [
    {
     "name": "stdout",
     "output_type": "stream",
     "text": [
      "----------------------------------------\n",
      "LinearRegression\n",
      "Root mean square error train 10980.864579066692\n",
      "Root mean square error test 8575.360531712207 \n",
      "----------------------------------------\n",
      "Ridge\n",
      "Root mean square error train 10980.864579066692\n",
      "Root mean square error test 8575.36053171341 \n",
      "----------------------------------------\n",
      "Lasso\n",
      "Root mean square error train 10980.864579066694\n",
      "Root mean square error test 8575.360538319434 \n",
      "----------------------------------------\n",
      "ElasticNet\n",
      "Root mean square error train 10980.864579066692\n",
      "Root mean square error test 8575.360536657474 \n",
      "----------------------------------------\n",
      "BayesianRidge\n",
      "Root mean square error train 10980.874316061518\n",
      "Root mean square error test 8576.097754073133 \n",
      "----------------------------------------\n",
      "LinearSVR\n",
      "Root mean square error train 11270.61998297552\n",
      "Root mean square error test 8844.141419075544 \n",
      "----------------------------------------\n",
      "SVR\n",
      "Root mean square error train 41266.4588510978\n",
      "Root mean square error test 41074.67750251161 \n",
      "----------------------------------------\n",
      "DecisionTreeRegressor\n",
      "Root mean square error train 0.0\n",
      "Root mean square error test 13675.208832957544 \n",
      "----------------------------------------\n",
      "ExtraTreeRegressor\n",
      "Root mean square error train 0.0\n",
      "Root mean square error test 12845.284739572637 \n",
      "----------------------------------------\n",
      "RandomForestRegressor\n",
      "Root mean square error train 5050.2888104452295\n",
      "Root mean square error test 9506.019003775731 \n",
      "----------------------------------------\n",
      "GradientBoostingRegressor\n",
      "Root mean square error train 8242.659280613934\n",
      "Root mean square error test 8706.308409207364 \n"
     ]
    }
   ],
   "source": [
    "for model in models:\n",
    "    model.fit(X_train,Y_train)\n",
    "    print('-'*40)\n",
    "    print(model.__class__.__name__)\n",
    "    \n",
    "    train_pred = model.predict(X_train)\n",
    "    train_rmse = np.sqrt(mean_squared_error(Y_train, train_pred))\n",
    "    print(\"Root mean square error train {}\".format(train_rmse))    \n",
    "\n",
    "    pred = model.predict(X_test)\n",
    "    rmse = np.sqrt(mean_squared_error(Y_test, pred))\n",
    "    print(\"Root mean square error test {} \".format(rmse))"
   ]
  },
  {
   "cell_type": "code",
   "execution_count": null,
   "metadata": {},
   "outputs": [],
   "source": []
  },
  {
   "cell_type": "code",
   "execution_count": 147,
   "metadata": {},
   "outputs": [],
   "source": [
    "test = pd.read_csv('./Data/Yes_ml2_test.csv')"
   ]
  },
  {
   "cell_type": "code",
   "execution_count": 148,
   "metadata": {},
   "outputs": [
    {
     "data": {
      "text/plain": [
       "Serial Numer          0\n",
       "Main Office           0\n",
       "Branch Number         0\n",
       "Established Date      0\n",
       "Acquired Date       122\n",
       "City                  0\n",
       "County                0\n",
       "State                 0\n",
       "2010 Deposits         0\n",
       "2011 Deposits         0\n",
       "2012 Deposits         0\n",
       "2013 Deposits         0\n",
       "2014 Deposits         0\n",
       "2015 Deposits         0\n",
       "dtype: int64"
      ]
     },
     "execution_count": 148,
     "metadata": {},
     "output_type": "execute_result"
    }
   ],
   "source": [
    "test.isnull().sum()"
   ]
  },
  {
   "cell_type": "code",
   "execution_count": 149,
   "metadata": {},
   "outputs": [],
   "source": [
    "test = test[ ['Serial Numer','2010 Deposits','2011 Deposits','2012 Deposits', '2013 Deposits', '2014 Deposits',\n",
    "       '2015 Deposits']]"
   ]
  },
  {
   "cell_type": "code",
   "execution_count": 150,
   "metadata": {},
   "outputs": [],
   "source": [
    "serial_numer = pd.DataFrame(test['Serial Numer'])\n",
    "test = test[['2010 Deposits','2011 Deposits','2012 Deposits', '2013 Deposits', '2014 Deposits','2015 Deposits']]"
   ]
  },
  {
   "cell_type": "code",
   "execution_count": 151,
   "metadata": {},
   "outputs": [],
   "source": [
    "for i in range(11):\n",
    "    test_pred = models[i].predict(test)   \n",
    "    result = pd.concat([serial_numer['Serial Numer'],pd.Series(test_pred, name='Deposits 2016')], axis =1,)\n",
    "    pd.DataFrame.to_csv(result,path_or_buf='./output/resultsML2_yes_{}.csv'.format(i),index=False)   "
   ]
  },
  {
   "cell_type": "code",
   "execution_count": null,
   "metadata": {},
   "outputs": [],
   "source": []
  },
  {
   "cell_type": "code",
   "execution_count": null,
   "metadata": {},
   "outputs": [],
   "source": []
  },
  {
   "cell_type": "code",
   "execution_count": null,
   "metadata": {},
   "outputs": [],
   "source": []
  },
  {
   "cell_type": "code",
   "execution_count": null,
   "metadata": {},
   "outputs": [],
   "source": []
  },
  {
   "cell_type": "code",
   "execution_count": null,
   "metadata": {},
   "outputs": [],
   "source": []
  },
  {
   "cell_type": "code",
   "execution_count": null,
   "metadata": {},
   "outputs": [],
   "source": []
  }
 ],
 "metadata": {
  "kernelspec": {
   "display_name": "Python 3",
   "language": "python",
   "name": "python3"
  },
  "language_info": {
   "codemirror_mode": {
    "name": "ipython",
    "version": 3
   },
   "file_extension": ".py",
   "mimetype": "text/x-python",
   "name": "python",
   "nbconvert_exporter": "python",
   "pygments_lexer": "ipython3",
   "version": "3.6.5"
  }
 },
 "nbformat": 4,
 "nbformat_minor": 2
}
