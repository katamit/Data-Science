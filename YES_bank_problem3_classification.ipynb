{
 "cells": [
  {
   "cell_type": "code",
   "execution_count": 1,
   "metadata": {},
   "outputs": [],
   "source": [
    "import pandas as pd\n",
    "import numpy as np\n",
    "# pd.set_option()\n",
    "import matplotlib.pyplot as plt\n",
    "\n",
    "\n",
    "pd.set_option('display.max_columns',50)\n",
    "\n",
    "train = pd.read_csv('./Data/Yes_ml3_2_Bank_Train.csv')"
   ]
  },
  {
   "cell_type": "code",
   "execution_count": 2,
   "metadata": {},
   "outputs": [
    {
     "data": {
      "text/plain": [
       "serial number       0\n",
       "account_info        0\n",
       "duration_month      0\n",
       "credit_history      0\n",
       "purpose             0\n",
       "credit_amount       0\n",
       "savings_account     0\n",
       "employment_st       0\n",
       "poi                 0\n",
       "personal_status     0\n",
       "gurantors           0\n",
       "resident_since      0\n",
       "property_type       0\n",
       "age                 0\n",
       "installment_type    0\n",
       "housing_type        0\n",
       "credits_no          0\n",
       "job_type            0\n",
       "liables             0\n",
       "telephone           0\n",
       "foreigner           0\n",
       "dtype: int64"
      ]
     },
     "execution_count": 2,
     "metadata": {},
     "output_type": "execute_result"
    }
   ],
   "source": [
    "train.isnull().sum()"
   ]
  },
  {
   "cell_type": "code",
   "execution_count": 4,
   "metadata": {},
   "outputs": [
    {
     "data": {
      "text/plain": [
       "serial number        int64\n",
       "liables              int64\n",
       "duration_month       int64\n",
       "credits_no           int64\n",
       "credit_amount        int64\n",
       "poi                  int64\n",
       "age                  int64\n",
       "resident_since       int64\n",
       "job_type            object\n",
       "housing_type        object\n",
       "installment_type    object\n",
       "property_type       object\n",
       "gurantors           object\n",
       "personal_status     object\n",
       "employment_st       object\n",
       "savings_account     object\n",
       "purpose             object\n",
       "credit_history      object\n",
       "account_info        object\n",
       "telephone           object\n",
       "foreigner           object\n",
       "dtype: object"
      ]
     },
     "execution_count": 4,
     "metadata": {},
     "output_type": "execute_result"
    }
   ],
   "source": [
    "train.dtypes.sort_values()"
   ]
  },
  {
   "cell_type": "code",
   "execution_count": 5,
   "metadata": {},
   "outputs": [
    {
     "data": {
      "text/plain": [
       "account_info                                (4, [A11, A12, A13, A14])\n",
       "credit_history                         (5, [A30, A31, A32, A33, A34])\n",
       "purpose             (10, [A40, A41, A410, A42, A43, A44, A45, A46,...\n",
       "savings_account                        (5, [A61, A62, A63, A64, A65])\n",
       "employment_st                          (5, [A71, A72, A73, A74, A75])\n",
       "personal_status                             (4, [A91, A92, A93, A94])\n",
       "gurantors                                     (3, [A101, A102, A103])\n",
       "property_type                           (4, [A121, A122, A123, A124])\n",
       "installment_type                              (3, [A141, A142, A143])\n",
       "housing_type                                  (3, [A151, A152, A153])\n",
       "job_type                                (4, [A171, A172, A173, A174])\n",
       "telephone                                           (2, [A191, A192])\n",
       "foreigner                                           (2, [A201, A202])\n",
       "dtype: object"
      ]
     },
     "execution_count": 5,
     "metadata": {},
     "output_type": "execute_result"
    }
   ],
   "source": [
    "train.select_dtypes(include=['object']).apply(lambda x: (x.nunique(),sorted(x.unique())))"
   ]
  },
  {
   "cell_type": "code",
   "execution_count": null,
   "metadata": {},
   "outputs": [],
   "source": []
  }
 ],
 "metadata": {
  "kernelspec": {
   "display_name": "Python 3",
   "language": "python",
   "name": "python3"
  },
  "language_info": {
   "codemirror_mode": {
    "name": "ipython",
    "version": 3
   },
   "file_extension": ".py",
   "mimetype": "text/x-python",
   "name": "python",
   "nbconvert_exporter": "python",
   "pygments_lexer": "ipython3",
   "version": "3.6.5"
  }
 },
 "nbformat": 4,
 "nbformat_minor": 2
}
