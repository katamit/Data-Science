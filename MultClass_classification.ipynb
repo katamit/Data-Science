{
 "cells": [
  {
   "cell_type": "code",
   "execution_count": 2,
   "metadata": {
    "collapsed": true
   },
   "outputs": [],
   "source": [
    "from sklearn.datasets import make_multilabel_classification"
   ]
  },
  {
   "cell_type": "code",
   "execution_count": 3,
   "metadata": {
    "collapsed": true
   },
   "outputs": [],
   "source": [
    "x, y = make_multilabel_classification(n_samples=1000, sparse=True, n_labels=20, return_indicator='sparse', allow_unlabeled=False)"
   ]
  },
  {
   "cell_type": "markdown",
   "metadata": {},
   "source": [
    "# <h2>4. Techniques for Solving a Multi-Label classification problem\n",
    "# Basically, there are three methods to solve a multi-label classification problem, namely</h2>\n",
    "# <ul>\n",
    "# <li>Problem Transformation</li>\n",
    "# <li>Adapted Algorithm</li>\n",
    "# <li>Ensemble approaches</li>\n",
    "# </ul>"
   ]
  },
  {
   "cell_type": "code",
   "execution_count": 4,
   "metadata": {},
   "outputs": [
    {
     "data": {
      "text/plain": [
       "<700x20 sparse matrix of type '<class 'numpy.float64'>'\n",
       "\twith 12534 stored elements in Compressed Sparse Row format>"
      ]
     },
     "execution_count": 4,
     "metadata": {},
     "output_type": "execute_result"
    }
   ],
   "source": [
    "\n",
    "from sklearn.model_selection import train_test_split\n",
    "x_train, y_train, x_test, _test = train_test_split(x, y, test_size= 0.3)\n",
    "x_train"
   ]
  },
  {
   "cell_type": "markdown",
   "metadata": {},
   "source": [
    "\n",
    "# <h2>4.1 Problem Transformation</h2>\n",
    "# <h4> Binary Relevance </h4>"
   ]
  },
  {
   "cell_type": "code",
   "execution_count": null,
   "metadata": {
    "collapsed": true
   },
   "outputs": [],
   "source": [
    "#using binary relevance\n",
    "from skmultilearn.problem_transform import BinaryRelevance\n"
   ]
  },
  {
   "cell_type": "markdown",
   "metadata": {},
   "source": [
    "## to be conitnued :\n",
    "https://www.analyticsvidhya.com/blog/2017/08/introduction-to-multi-label-classification/\n",
    "\n"
   ]
  },
  {
   "cell_type": "markdown",
   "metadata": {},
   "source": [
    "\n",
    "# ### Example 2:\n",
    "<a>https://datascienceplus.com/multi-class-text-classification-with-scikit-learn/</a>\n"
   ]
  },
  {
   "cell_type": "code",
   "execution_count": 1,
   "metadata": {},
   "outputs": [],
   "source": [
    "import os\n",
    "import pandas as pd\n",
    "df = pd.read_csv(os.path.join(os.getcwd(),'Data/Consumer_Complaints.csv'))\n",
    "# df = pd.read_csv('C:\\\\Users\\\\amitkumar_kataria\\\\Desktop\\\\ML\\\\sklearn\\\\Data\\\\Consumer_Complaints.csv')\n",
    "# os.listdir('C:\\\\Users\\\\amitkumar_kataria\\\\Desktop\\\\ML\\\\sklearn\\\\Data')"
   ]
  },
  {
   "cell_type": "code",
   "execution_count": null,
   "metadata": {
    "collapsed": true
   },
   "outputs": [],
   "source": [
    "print(df.head)\n",
    "print(df.columns)\n",
    "print(df.info())"
   ]
  },
  {
   "cell_type": "code",
   "execution_count": null,
   "metadata": {
    "collapsed": true
   },
   "outputs": [],
   "source": [
    "pd.to_datetime(df['Date received'])"
   ]
  },
  {
   "cell_type": "markdown",
   "metadata": {},
   "source": [
    "###### For this project, we need only two columns — “Product” and “Consumer complaint narrative”"
   ]
  },
  {
   "cell_type": "code",
   "execution_count": 7,
   "metadata": {},
   "outputs": [
    {
     "data": {
      "text/html": [
       "<div>\n",
       "<style>\n",
       "    .dataframe thead tr:only-child th {\n",
       "        text-align: right;\n",
       "    }\n",
       "\n",
       "    .dataframe thead th {\n",
       "        text-align: left;\n",
       "    }\n",
       "\n",
       "    .dataframe tbody tr th {\n",
       "        vertical-align: top;\n",
       "    }\n",
       "</style>\n",
       "<table border=\"1\" class=\"dataframe\">\n",
       "  <thead>\n",
       "    <tr style=\"text-align: right;\">\n",
       "      <th></th>\n",
       "      <th>Complaint ID</th>\n",
       "    </tr>\n",
       "  </thead>\n",
       "  <tbody>\n",
       "    <tr>\n",
       "      <th>count</th>\n",
       "      <td>1.099553e+06</td>\n",
       "    </tr>\n",
       "    <tr>\n",
       "      <th>mean</th>\n",
       "      <td>1.734168e+06</td>\n",
       "    </tr>\n",
       "    <tr>\n",
       "      <th>std</th>\n",
       "      <td>9.031526e+05</td>\n",
       "    </tr>\n",
       "    <tr>\n",
       "      <th>min</th>\n",
       "      <td>1.000000e+00</td>\n",
       "    </tr>\n",
       "    <tr>\n",
       "      <th>25%</th>\n",
       "      <td>9.646040e+05</td>\n",
       "    </tr>\n",
       "    <tr>\n",
       "      <th>50%</th>\n",
       "      <td>1.860983e+06</td>\n",
       "    </tr>\n",
       "    <tr>\n",
       "      <th>75%</th>\n",
       "      <td>2.581963e+06</td>\n",
       "    </tr>\n",
       "    <tr>\n",
       "      <th>max</th>\n",
       "      <td>2.992769e+06</td>\n",
       "    </tr>\n",
       "  </tbody>\n",
       "</table>\n",
       "</div>"
      ],
      "text/plain": [
       "       Complaint ID\n",
       "count  1.099553e+06\n",
       "mean   1.734168e+06\n",
       "std    9.031526e+05\n",
       "min    1.000000e+00\n",
       "25%    9.646040e+05\n",
       "50%    1.860983e+06\n",
       "75%    2.581963e+06\n",
       "max    2.992769e+06"
      ]
     },
     "execution_count": 7,
     "metadata": {},
     "output_type": "execute_result"
    }
   ],
   "source": [
    "df.describe()"
   ]
  },
  {
   "cell_type": "code",
   "execution_count": 2,
   "metadata": {
    "collapsed": true
   },
   "outputs": [],
   "source": [
    "df = df[['Product','Consumer complaint narrative']]"
   ]
  },
  {
   "cell_type": "code",
   "execution_count": 10,
   "metadata": {},
   "outputs": [
    {
     "data": {
      "text/plain": [
       "Index(['Product', 'Consumer complaint narrative'], dtype='object')"
      ]
     },
     "execution_count": 10,
     "metadata": {},
     "output_type": "execute_result"
    }
   ],
   "source": [
    "df.columns"
   ]
  },
  {
   "cell_type": "code",
   "execution_count": 11,
   "metadata": {},
   "outputs": [
    {
     "name": "stdout",
     "output_type": "stream",
     "text": [
      "<class 'pandas.core.frame.DataFrame'>\n",
      "RangeIndex: 1099553 entries, 0 to 1099552\n",
      "Data columns (total 2 columns):\n",
      "Product                         1099553 non-null object\n",
      "Consumer complaint narrative    312111 non-null object\n",
      "dtypes: object(2)\n",
      "memory usage: 16.8+ MB\n"
     ]
    }
   ],
   "source": [
    "df.info()"
   ]
  },
  {
   "cell_type": "code",
   "execution_count": 12,
   "metadata": {},
   "outputs": [
    {
     "data": {
      "text/html": [
       "<div>\n",
       "<style>\n",
       "    .dataframe thead tr:only-child th {\n",
       "        text-align: right;\n",
       "    }\n",
       "\n",
       "    .dataframe thead th {\n",
       "        text-align: left;\n",
       "    }\n",
       "\n",
       "    .dataframe tbody tr th {\n",
       "        vertical-align: top;\n",
       "    }\n",
       "</style>\n",
       "<table border=\"1\" class=\"dataframe\">\n",
       "  <thead>\n",
       "    <tr style=\"text-align: right;\">\n",
       "      <th></th>\n",
       "      <th>Product</th>\n",
       "      <th>Consumer complaint narrative</th>\n",
       "    </tr>\n",
       "  </thead>\n",
       "  <tbody>\n",
       "    <tr>\n",
       "      <th>count</th>\n",
       "      <td>1099553</td>\n",
       "      <td>312111</td>\n",
       "    </tr>\n",
       "    <tr>\n",
       "      <th>unique</th>\n",
       "      <td>18</td>\n",
       "      <td>300467</td>\n",
       "    </tr>\n",
       "    <tr>\n",
       "      <th>top</th>\n",
       "      <td>Mortgage</td>\n",
       "      <td>There are many mistakes appear in my report wi...</td>\n",
       "    </tr>\n",
       "    <tr>\n",
       "      <th>freq</th>\n",
       "      <td>261866</td>\n",
       "      <td>525</td>\n",
       "    </tr>\n",
       "  </tbody>\n",
       "</table>\n",
       "</div>"
      ],
      "text/plain": [
       "         Product                       Consumer complaint narrative\n",
       "count    1099553                                             312111\n",
       "unique        18                                             300467\n",
       "top     Mortgage  There are many mistakes appear in my report wi...\n",
       "freq      261866                                                525"
      ]
     },
     "execution_count": 12,
     "metadata": {},
     "output_type": "execute_result"
    }
   ],
   "source": [
    "df.describe()"
   ]
  },
  {
   "cell_type": "code",
   "execution_count": 13,
   "metadata": {},
   "outputs": [
    {
     "data": {
      "text/plain": [
       "array(['Mortgage', 'Credit reporting', 'Consumer Loan', 'Credit card',\n",
       "       'Debt collection', 'Student loan', 'Bank account or service',\n",
       "       'Other financial service', 'Prepaid card', 'Money transfers',\n",
       "       'Checking or savings account',\n",
       "       'Credit reporting, credit repair services, or other personal consumer reports',\n",
       "       'Payday loan', 'Money transfer, virtual currency, or money service',\n",
       "       'Credit card or prepaid card', 'Vehicle loan or lease',\n",
       "       'Payday loan, title loan, or personal loan', 'Virtual currency'], dtype=object)"
      ]
     },
     "execution_count": 13,
     "metadata": {},
     "output_type": "execute_result"
    }
   ],
   "source": [
    "df['Product'].unique()\n",
    "#df['Product'].count()"
   ]
  },
  {
   "cell_type": "code",
   "execution_count": 17,
   "metadata": {},
   "outputs": [
    {
     "data": {
      "text/plain": [
       "787442"
      ]
     },
     "execution_count": 17,
     "metadata": {},
     "output_type": "execute_result"
    }
   ],
   "source": [
    "df['Consumer complaint narrative'].isnull().sum()"
   ]
  },
  {
   "cell_type": "code",
   "execution_count": 3,
   "metadata": {
    "collapsed": true
   },
   "outputs": [],
   "source": [
    "df = df[pd.notnull(df['Consumer complaint narrative'])]"
   ]
  },
  {
   "cell_type": "code",
   "execution_count": 19,
   "metadata": {},
   "outputs": [
    {
     "data": {
      "text/html": [
       "<div>\n",
       "<style>\n",
       "    .dataframe thead tr:only-child th {\n",
       "        text-align: right;\n",
       "    }\n",
       "\n",
       "    .dataframe thead th {\n",
       "        text-align: left;\n",
       "    }\n",
       "\n",
       "    .dataframe tbody tr th {\n",
       "        vertical-align: top;\n",
       "    }\n",
       "</style>\n",
       "<table border=\"1\" class=\"dataframe\">\n",
       "  <thead>\n",
       "    <tr style=\"text-align: right;\">\n",
       "      <th></th>\n",
       "      <th>Product</th>\n",
       "      <th>Consumer complaint narrative</th>\n",
       "    </tr>\n",
       "  </thead>\n",
       "  <tbody>\n",
       "    <tr>\n",
       "      <th>count</th>\n",
       "      <td>312111</td>\n",
       "      <td>312111</td>\n",
       "    </tr>\n",
       "    <tr>\n",
       "      <th>unique</th>\n",
       "      <td>18</td>\n",
       "      <td>300467</td>\n",
       "    </tr>\n",
       "    <tr>\n",
       "      <th>top</th>\n",
       "      <td>Debt collection</td>\n",
       "      <td>There are many mistakes appear in my report wi...</td>\n",
       "    </tr>\n",
       "    <tr>\n",
       "      <th>freq</th>\n",
       "      <td>71384</td>\n",
       "      <td>525</td>\n",
       "    </tr>\n",
       "  </tbody>\n",
       "</table>\n",
       "</div>"
      ],
      "text/plain": [
       "                Product                       Consumer complaint narrative\n",
       "count            312111                                             312111\n",
       "unique               18                                             300467\n",
       "top     Debt collection  There are many mistakes appear in my report wi...\n",
       "freq              71384                                                525"
      ]
     },
     "execution_count": 19,
     "metadata": {},
     "output_type": "execute_result"
    }
   ],
   "source": [
    "df.describe()"
   ]
  },
  {
   "cell_type": "code",
   "execution_count": 4,
   "metadata": {
    "collapsed": true
   },
   "outputs": [],
   "source": [
    "df.columns = ['Product', 'Consumer_complaint_narrative']"
   ]
  },
  {
   "cell_type": "code",
   "execution_count": 17,
   "metadata": {},
   "outputs": [
    {
     "data": {
      "text/plain": [
       "array([ 0,  1,  2,  3,  4,  5,  6,  7,  8,  9, 10, 11, 12, 13, 14, 15, 16,\n",
       "       17])"
      ]
     },
     "execution_count": 17,
     "metadata": {},
     "output_type": "execute_result"
    }
   ],
   "source": [
    "# to generate a number for each product\n",
    "\n",
    "import numpy as np\n",
    "np.unique(df['Product'].factorize()[0])"
   ]
  },
  {
   "cell_type": "code",
   "execution_count": 5,
   "metadata": {
    "collapsed": true
   },
   "outputs": [],
   "source": [
    "df['Category_id'] = df['Product'].factorize()[0]"
   ]
  },
  {
   "cell_type": "code",
   "execution_count": 6,
   "metadata": {
    "collapsed": true
   },
   "outputs": [],
   "source": [
    "category_id_df = df[['Product', 'Category_id']].drop_duplicates().sort_values(by='Category_id')"
   ]
  },
  {
   "cell_type": "code",
   "execution_count": 7,
   "metadata": {},
   "outputs": [
    {
     "data": {
      "text/html": [
       "<div>\n",
       "<style>\n",
       "    .dataframe thead tr:only-child th {\n",
       "        text-align: right;\n",
       "    }\n",
       "\n",
       "    .dataframe thead th {\n",
       "        text-align: left;\n",
       "    }\n",
       "\n",
       "    .dataframe tbody tr th {\n",
       "        vertical-align: top;\n",
       "    }\n",
       "</style>\n",
       "<table border=\"1\" class=\"dataframe\">\n",
       "  <thead>\n",
       "    <tr style=\"text-align: right;\">\n",
       "      <th></th>\n",
       "      <th>Product</th>\n",
       "      <th>Category_id</th>\n",
       "    </tr>\n",
       "  </thead>\n",
       "  <tbody>\n",
       "    <tr>\n",
       "      <th>1</th>\n",
       "      <td>Credit reporting</td>\n",
       "      <td>0</td>\n",
       "    </tr>\n",
       "    <tr>\n",
       "      <th>2</th>\n",
       "      <td>Consumer Loan</td>\n",
       "      <td>1</td>\n",
       "    </tr>\n",
       "    <tr>\n",
       "      <th>12</th>\n",
       "      <td>Debt collection</td>\n",
       "      <td>2</td>\n",
       "    </tr>\n",
       "    <tr>\n",
       "      <th>25</th>\n",
       "      <td>Mortgage</td>\n",
       "      <td>3</td>\n",
       "    </tr>\n",
       "    <tr>\n",
       "      <th>36</th>\n",
       "      <td>Credit card</td>\n",
       "      <td>4</td>\n",
       "    </tr>\n",
       "    <tr>\n",
       "      <th>90</th>\n",
       "      <td>Other financial service</td>\n",
       "      <td>5</td>\n",
       "    </tr>\n",
       "    <tr>\n",
       "      <th>124</th>\n",
       "      <td>Bank account or service</td>\n",
       "      <td>6</td>\n",
       "    </tr>\n",
       "    <tr>\n",
       "      <th>152</th>\n",
       "      <td>Student loan</td>\n",
       "      <td>7</td>\n",
       "    </tr>\n",
       "    <tr>\n",
       "      <th>168</th>\n",
       "      <td>Money transfers</td>\n",
       "      <td>8</td>\n",
       "    </tr>\n",
       "    <tr>\n",
       "      <th>538</th>\n",
       "      <td>Payday loan</td>\n",
       "      <td>9</td>\n",
       "    </tr>\n",
       "    <tr>\n",
       "      <th>985</th>\n",
       "      <td>Prepaid card</td>\n",
       "      <td>10</td>\n",
       "    </tr>\n",
       "    <tr>\n",
       "      <th>1431</th>\n",
       "      <td>Money transfer, virtual currency, or money ser...</td>\n",
       "      <td>11</td>\n",
       "    </tr>\n",
       "    <tr>\n",
       "      <th>1529</th>\n",
       "      <td>Credit reporting, credit repair services, or o...</td>\n",
       "      <td>12</td>\n",
       "    </tr>\n",
       "    <tr>\n",
       "      <th>4098</th>\n",
       "      <td>Checking or savings account</td>\n",
       "      <td>13</td>\n",
       "    </tr>\n",
       "    <tr>\n",
       "      <th>5221</th>\n",
       "      <td>Vehicle loan or lease</td>\n",
       "      <td>14</td>\n",
       "    </tr>\n",
       "    <tr>\n",
       "      <th>7339</th>\n",
       "      <td>Credit card or prepaid card</td>\n",
       "      <td>15</td>\n",
       "    </tr>\n",
       "    <tr>\n",
       "      <th>14042</th>\n",
       "      <td>Virtual currency</td>\n",
       "      <td>16</td>\n",
       "    </tr>\n",
       "    <tr>\n",
       "      <th>49907</th>\n",
       "      <td>Payday loan, title loan, or personal loan</td>\n",
       "      <td>17</td>\n",
       "    </tr>\n",
       "  </tbody>\n",
       "</table>\n",
       "</div>"
      ],
      "text/plain": [
       "                                                 Product  Category_id\n",
       "1                                       Credit reporting            0\n",
       "2                                          Consumer Loan            1\n",
       "12                                       Debt collection            2\n",
       "25                                              Mortgage            3\n",
       "36                                           Credit card            4\n",
       "90                               Other financial service            5\n",
       "124                              Bank account or service            6\n",
       "152                                         Student loan            7\n",
       "168                                      Money transfers            8\n",
       "538                                          Payday loan            9\n",
       "985                                         Prepaid card           10\n",
       "1431   Money transfer, virtual currency, or money ser...           11\n",
       "1529   Credit reporting, credit repair services, or o...           12\n",
       "4098                         Checking or savings account           13\n",
       "5221                               Vehicle loan or lease           14\n",
       "7339                         Credit card or prepaid card           15\n",
       "14042                                   Virtual currency           16\n",
       "49907          Payday loan, title loan, or personal loan           17"
      ]
     },
     "execution_count": 7,
     "metadata": {},
     "output_type": "execute_result"
    }
   ],
   "source": [
    "category_id_df\n"
   ]
  },
  {
   "cell_type": "code",
   "execution_count": 8,
   "metadata": {},
   "outputs": [
    {
     "data": {
      "text/plain": [
       "array([['Credit reporting', 0],\n",
       "       ['Consumer Loan', 1],\n",
       "       ['Debt collection', 2],\n",
       "       ['Mortgage', 3],\n",
       "       ['Credit card', 4],\n",
       "       ['Other financial service', 5],\n",
       "       ['Bank account or service', 6],\n",
       "       ['Student loan', 7],\n",
       "       ['Money transfers', 8],\n",
       "       ['Payday loan', 9],\n",
       "       ['Prepaid card', 10],\n",
       "       ['Money transfer, virtual currency, or money service', 11],\n",
       "       [ 'Credit reporting, credit repair services, or other personal consumer reports',\n",
       "        12],\n",
       "       ['Checking or savings account', 13],\n",
       "       ['Vehicle loan or lease', 14],\n",
       "       ['Credit card or prepaid card', 15],\n",
       "       ['Virtual currency', 16],\n",
       "       ['Payday loan, title loan, or personal loan', 17]], dtype=object)"
      ]
     },
     "execution_count": 8,
     "metadata": {},
     "output_type": "execute_result"
    }
   ],
   "source": [
    "category_id_df.values"
   ]
  },
  {
   "cell_type": "code",
   "execution_count": 9,
   "metadata": {
    "collapsed": true
   },
   "outputs": [],
   "source": [
    "# we will create dictionaries for \n",
    "category_to_id = dict(category_id_df.values)"
   ]
  },
  {
   "cell_type": "code",
   "execution_count": 12,
   "metadata": {},
   "outputs": [
    {
     "data": {
      "text/plain": [
       "{'Bank account or service': 6,\n",
       " 'Checking or savings account': 13,\n",
       " 'Consumer Loan': 1,\n",
       " 'Credit card': 4,\n",
       " 'Credit card or prepaid card': 15,\n",
       " 'Credit reporting': 0,\n",
       " 'Credit reporting, credit repair services, or other personal consumer reports': 12,\n",
       " 'Debt collection': 2,\n",
       " 'Money transfer, virtual currency, or money service': 11,\n",
       " 'Money transfers': 8,\n",
       " 'Mortgage': 3,\n",
       " 'Other financial service': 5,\n",
       " 'Payday loan': 9,\n",
       " 'Payday loan, title loan, or personal loan': 17,\n",
       " 'Prepaid card': 10,\n",
       " 'Student loan': 7,\n",
       " 'Vehicle loan or lease': 14,\n",
       " 'Virtual currency': 16}"
      ]
     },
     "execution_count": 12,
     "metadata": {},
     "output_type": "execute_result"
    }
   ],
   "source": [
    "type(category_to_id)\n",
    "category_to_id"
   ]
  },
  {
   "cell_type": "code",
   "execution_count": 10,
   "metadata": {
    "collapsed": true
   },
   "outputs": [],
   "source": [
    "id_to_category = dict(category_id_df[['Category_id','Product']].values)"
   ]
  },
  {
   "cell_type": "code",
   "execution_count": 14,
   "metadata": {},
   "outputs": [
    {
     "data": {
      "text/plain": [
       "{0: 'Credit reporting',\n",
       " 1: 'Consumer Loan',\n",
       " 2: 'Debt collection',\n",
       " 3: 'Mortgage',\n",
       " 4: 'Credit card',\n",
       " 5: 'Other financial service',\n",
       " 6: 'Bank account or service',\n",
       " 7: 'Student loan',\n",
       " 8: 'Money transfers',\n",
       " 9: 'Payday loan',\n",
       " 10: 'Prepaid card',\n",
       " 11: 'Money transfer, virtual currency, or money service',\n",
       " 12: 'Credit reporting, credit repair services, or other personal consumer reports',\n",
       " 13: 'Checking or savings account',\n",
       " 14: 'Vehicle loan or lease',\n",
       " 15: 'Credit card or prepaid card',\n",
       " 16: 'Virtual currency',\n",
       " 17: 'Payday loan, title loan, or personal loan'}"
      ]
     },
     "execution_count": 14,
     "metadata": {},
     "output_type": "execute_result"
    }
   ],
   "source": [
    "id_to_category\n"
   ]
  },
  {
   "cell_type": "code",
   "execution_count": 17,
   "metadata": {
    "collapsed": true
   },
   "outputs": [],
   "source": [
    "import matplotlib.pyplot as plt\n",
    "\n",
    "fig = plt.figure(figsize=(8,10))"
   ]
  },
  {
   "cell_type": "code",
   "execution_count": 11,
   "metadata": {},
   "outputs": [
    {
     "data": {
      "text/plain": [
       "Product\n",
       "Debt collection                                                                 71384\n",
       "Credit reporting, credit repair services, or other personal consumer reports    62545\n",
       "Mortgage                                                                        47018\n",
       "Credit reporting                                                                31593\n",
       "Credit card                                                                     18842\n",
       "Student loan                                                                    18306\n",
       "Bank account or service                                                         14887\n",
       "Credit card or prepaid card                                                     14035\n",
       "Consumer Loan                                                                    9474\n",
       "Checking or savings account                                                      8476\n",
       "Money transfer, virtual currency, or money service                               3952\n",
       "Vehicle loan or lease                                                            3751\n",
       "Payday loan, title loan, or personal loan                                        2844\n",
       "Payday loan                                                                      1748\n",
       "Money transfers                                                                  1497\n",
       "Prepaid card                                                                     1450\n",
       "Other financial service                                                           293\n",
       "Virtual currency                                                                   16\n",
       "Name: Consumer_complaint_narrative, dtype: int64"
      ]
     },
     "execution_count": 11,
     "metadata": {},
     "output_type": "execute_result"
    }
   ],
   "source": [
    "df.groupby('Product').Consumer_complaint_narrative.count().sort_values(ascending=False)"
   ]
  },
  {
   "cell_type": "code",
   "execution_count": 48,
   "metadata": {},
   "outputs": [
    {
     "data": {
      "image/png": "[encoded data removed]",
      "text/plain": [
       "<matplotlib.figure.Figure at 0x7f31011c7ba8>"
      ]
     },
     "metadata": {},
     "output_type": "display_data"
    }
   ],
   "source": [
    "df.groupby('Product').Consumer_complaint_narrative.count().plot.bar(ylim=0)\n",
    "plt.show()"
   ]
  },
  {
   "cell_type": "code",
   "execution_count": 71,
   "metadata": {},
   "outputs": [
    {
     "data": {
      "image/png": "[encoded data removed]",
      "text/plain": [
       "<matplotlib.figure.Figure at 0x7f3097319eb8>"
      ]
     },
     "metadata": {},
     "output_type": "display_data"
    }
   ],
   "source": [
    "df_train.groupby('Product').Consumer_complaint_narrative.count().plot.bar(ylim=0)\n",
    "plt.show()"
   ]
  },
  {
   "cell_type": "code",
   "execution_count": 46,
   "metadata": {},
   "outputs": [
    {
     "data": {
      "text/plain": [
       "{'Bank account or service': Int64Index([    124,     136,     153,     298,     365,     376,     420,\n",
       "                 483,     488,     499,\n",
       "             ...\n",
       "             1099004, 1099171, 1099181, 1099298, 1099301, 1099405, 1099416,\n",
       "             1099439, 1099533, 1099546],\n",
       "            dtype='int64', length=14887),\n",
       " 'Checking or savings account': Int64Index([   4098,    5938,   10418,   13012,   18995,   22326,   22327,\n",
       "               24846,   32764,   37486,\n",
       "             ...\n",
       "             1097715, 1097847, 1097892, 1097999, 1098008, 1098014, 1098046,\n",
       "             1098047, 1098066, 1098085],\n",
       "            dtype='int64', length=8476),\n",
       " 'Consumer Loan': Int64Index([      2,     154,     260,     368,     412,     559,     761,\n",
       "                 827,     863,     874,\n",
       "             ...\n",
       "             1099207, 1099214, 1099270, 1099394, 1099398, 1099421, 1099471,\n",
       "             1099477, 1099493, 1099499],\n",
       "            dtype='int64', length=9474),\n",
       " 'Credit card': Int64Index([     36,      43,      98,     283,     287,     291,     372,\n",
       "                 373,     467,     477,\n",
       "             ...\n",
       "             1099368, 1099395, 1099400, 1099408, 1099417, 1099448, 1099463,\n",
       "             1099497, 1099498, 1099543],\n",
       "            dtype='int64', length=18842),\n",
       " 'Credit card or prepaid card': Int64Index([   7339,   11811,   14452,   17259,   18079,   22958,   24982,\n",
       "               25766,   25778,   29568,\n",
       "             ...\n",
       "             1097895, 1098006, 1098078, 1098098, 1098105, 1098119, 1098158,\n",
       "             1098176, 1098185, 1098209],\n",
       "            dtype='int64', length=14035),\n",
       " 'Credit reporting': Int64Index([      1,       7,      28,      61,      64,      80,      83,\n",
       "                  99,     103,     159,\n",
       "             ...\n",
       "             1098907, 1098981, 1099031, 1099096, 1099198, 1099223, 1099296,\n",
       "             1099388, 1099494, 1099516],\n",
       "            dtype='int64', length=31593),\n",
       " 'Credit reporting, credit repair services, or other personal consumer reports': Int64Index([   1529,    3852,    3926,    5042,    5367,    6820,    7702,\n",
       "                8505,    8600,   11284,\n",
       "             ...\n",
       "             1098181, 1098188, 1098193, 1098197, 1098202, 1098204, 1098206,\n",
       "             1098224, 1098226, 1098236],\n",
       "            dtype='int64', length=62545),\n",
       " 'Debt collection': Int64Index([     12,      16,      49,     107,     191,     228,     231,\n",
       "                 236,     250,     256,\n",
       "             ...\n",
       "             1099473, 1099476, 1099489, 1099507, 1099515, 1099522, 1099535,\n",
       "             1099545, 1099549, 1099552],\n",
       "            dtype='int64', length=71384),\n",
       " 'Money transfer, virtual currency, or money service': Int64Index([   1431,    5291,   24927,   32118,   35481,   38438,   40331,\n",
       "               50577,   53745,   54419,\n",
       "             ...\n",
       "             1097928, 1097948, 1097950, 1097955, 1098011, 1098036, 1098079,\n",
       "             1098097, 1098140, 1098215],\n",
       "            dtype='int64', length=3952),\n",
       " 'Money transfers': Int64Index([    168,     171,     357,     532,    2192,    2640,    3083,\n",
       "                3395,    4152,    4984,\n",
       "             ...\n",
       "              980103,  984302,  991284,  997949, 1001726, 1051999, 1080307,\n",
       "             1095043, 1098658, 1099225],\n",
       "            dtype='int64', length=1497),\n",
       " 'Mortgage': Int64Index([     25,      26,      29,      69,      85,      95,     118,\n",
       "                 162,     173,     176,\n",
       "             ...\n",
       "             1099451, 1099455, 1099462, 1099478, 1099487, 1099502, 1099505,\n",
       "             1099509, 1099529, 1099550],\n",
       "            dtype='int64', length=47018),\n",
       " 'Other financial service': Int64Index([     90,     493,    7975,    8016,   17829,   18424,   18483,\n",
       "               19544,   20526,   23315,\n",
       "             ...\n",
       "              822302,  866386,  873894,  896818,  896835,  906376,  953399,\n",
       "              986963, 1016842, 1098433],\n",
       "            dtype='int64', length=293),\n",
       " 'Payday loan': Int64Index([    538,    1358,    1997,    2447,    2471,    2486,    3242,\n",
       "                3685,    3848,    3972,\n",
       "             ...\n",
       "             1043224, 1044537, 1045996, 1073991, 1077881, 1081895, 1089020,\n",
       "             1089625, 1098291, 1098307],\n",
       "            dtype='int64', length=1748),\n",
       " 'Payday loan, title loan, or personal loan': Int64Index([  49907,   50508,   60804,   69666,   72310,   75613,   75746,\n",
       "               75881,   76414,   77632,\n",
       "             ...\n",
       "             1096574, 1096623, 1096701, 1096803, 1096999, 1097300, 1097424,\n",
       "             1097626, 1097942, 1098221],\n",
       "            dtype='int64', length=2844),\n",
       " 'Prepaid card': Int64Index([    985,    1020,    2138,    2351,    3254,    3927,    4683,\n",
       "                5599,    6253,    6580,\n",
       "             ...\n",
       "              935818,  936177,  936285,  936973,  953191, 1000689, 1033755,\n",
       "             1092484, 1098254, 1098834],\n",
       "            dtype='int64', length=1450),\n",
       " 'Student loan': Int64Index([    152,     232,     235,     257,     340,     457,     500,\n",
       "                 652,     722,     895,\n",
       "             ...\n",
       "             1099006, 1099049, 1099061, 1099097, 1099150, 1099305, 1099378,\n",
       "             1099412, 1099425, 1099527],\n",
       "            dtype='int64', length=18306),\n",
       " 'Vehicle loan or lease': Int64Index([   5221,   20994,   22938,   32409,   35297,   42469,   51756,\n",
       "               56854,   58498,   59122,\n",
       "             ...\n",
       "             1096737, 1096821, 1096856, 1097252, 1097345, 1097433, 1097463,\n",
       "             1097585, 1097726, 1097843],\n",
       "            dtype='int64', length=3751),\n",
       " 'Virtual currency': Int64Index([ 14042,  42997, 130538, 144817, 150495, 216705, 231812, 328493,\n",
       "             335274, 364485, 577345, 582529, 635806, 637308, 697602, 734796],\n",
       "            dtype='int64')}"
      ]
     },
     "execution_count": 46,
     "metadata": {},
     "output_type": "execute_result"
    }
   ],
   "source": [
    "df.groupby('Product').groups"
   ]
  },
  {
   "cell_type": "code",
   "execution_count": 40,
   "metadata": {},
   "outputs": [
    {
     "data": {
      "text/plain": [
       "Product                         312111\n",
       "Consumer_complaint_narrative    312111\n",
       "Category_id                     312111\n",
       "dtype: int64"
      ]
     },
     "execution_count": 40,
     "metadata": {},
     "output_type": "execute_result"
    }
   ],
   "source": [
    "df.count()"
   ]
  },
  {
   "cell_type": "code",
   "execution_count": 57,
   "metadata": {},
   "outputs": [
    {
     "ename": "MemoryError",
     "evalue": "",
     "output_type": "error",
     "traceback": [
      "\u001b[0;31m---------------------------------------------------------------------------\u001b[0m",
      "\u001b[0;31mMemoryError\u001b[0m                               Traceback (most recent call last)",
      "\u001b[0;32m<ipython-input-57-551b3e03fbd9>\u001b[0m in \u001b[0;36m<module>\u001b[0;34m()\u001b[0m\n\u001b[1;32m      4\u001b[0m \u001b[0mtfidf\u001b[0m \u001b[0;34m=\u001b[0m \u001b[0mTfidfVectorizer\u001b[0m\u001b[0;34m(\u001b[0m\u001b[0mngram_range\u001b[0m\u001b[0;34m=\u001b[0m\u001b[0;34m(\u001b[0m\u001b[0;36m1\u001b[0m\u001b[0;34m,\u001b[0m\u001b[0;36m2\u001b[0m\u001b[0;34m)\u001b[0m\u001b[0;34m,\u001b[0m\u001b[0mstop_words\u001b[0m\u001b[0;34m=\u001b[0m\u001b[0;34m'english'\u001b[0m\u001b[0;34m,\u001b[0m\u001b[0mmin_df\u001b[0m\u001b[0;34m=\u001b[0m\u001b[0;36m5\u001b[0m\u001b[0;34m,\u001b[0m\u001b[0mencoding\u001b[0m\u001b[0;34m=\u001b[0m\u001b[0;34m'latin-1'\u001b[0m\u001b[0;34m,\u001b[0m\u001b[0mnorm\u001b[0m\u001b[0;34m=\u001b[0m\u001b[0;34m'l2'\u001b[0m\u001b[0;34m,\u001b[0m\u001b[0msublinear_tf\u001b[0m\u001b[0;34m=\u001b[0m\u001b[0;32mTrue\u001b[0m\u001b[0;34m)\u001b[0m\u001b[0;34m\u001b[0m\u001b[0m\n\u001b[1;32m      5\u001b[0m \u001b[0;34m\u001b[0m\u001b[0m\n\u001b[0;32m----> 6\u001b[0;31m \u001b[0mfeatures\u001b[0m \u001b[0;34m=\u001b[0m \u001b[0mtfidf\u001b[0m\u001b[0;34m.\u001b[0m\u001b[0mfit_transform\u001b[0m\u001b[0;34m(\u001b[0m\u001b[0mdf_train\u001b[0m\u001b[0;34m.\u001b[0m\u001b[0mConsumer_complaint_narrative\u001b[0m\u001b[0;34m)\u001b[0m\u001b[0;34m.\u001b[0m\u001b[0mtoarray\u001b[0m\u001b[0;34m(\u001b[0m\u001b[0;34m)\u001b[0m\u001b[0;34m\u001b[0m\u001b[0m\n\u001b[0m\u001b[1;32m      7\u001b[0m \u001b[0;34m\u001b[0m\u001b[0m\n\u001b[1;32m      8\u001b[0m \u001b[0mlabels\u001b[0m \u001b[0;34m=\u001b[0m \u001b[0mdf_train\u001b[0m\u001b[0;34m.\u001b[0m\u001b[0mcategory_id\u001b[0m\u001b[0;34m\u001b[0m\u001b[0m\n",
      "\u001b[0;32m~/anaconda3/envs/VenvPandas/lib/python3.6/site-packages/scipy/sparse/compressed.py\u001b[0m in \u001b[0;36mtoarray\u001b[0;34m(self, order, out)\u001b[0m\n\u001b[1;32m    962\u001b[0m     \u001b[0;32mdef\u001b[0m \u001b[0mtoarray\u001b[0m\u001b[0;34m(\u001b[0m\u001b[0mself\u001b[0m\u001b[0;34m,\u001b[0m \u001b[0morder\u001b[0m\u001b[0;34m=\u001b[0m\u001b[0;32mNone\u001b[0m\u001b[0;34m,\u001b[0m \u001b[0mout\u001b[0m\u001b[0;34m=\u001b[0m\u001b[0;32mNone\u001b[0m\u001b[0;34m)\u001b[0m\u001b[0;34m:\u001b[0m\u001b[0;34m\u001b[0m\u001b[0m\n\u001b[1;32m    963\u001b[0m         \u001b[0;34m\"\"\"See the docstring for `spmatrix.toarray`.\"\"\"\u001b[0m\u001b[0;34m\u001b[0m\u001b[0m\n\u001b[0;32m--> 964\u001b[0;31m         \u001b[0;32mreturn\u001b[0m \u001b[0mself\u001b[0m\u001b[0;34m.\u001b[0m\u001b[0mtocoo\u001b[0m\u001b[0;34m(\u001b[0m\u001b[0mcopy\u001b[0m\u001b[0;34m=\u001b[0m\u001b[0;32mFalse\u001b[0m\u001b[0;34m)\u001b[0m\u001b[0;34m.\u001b[0m\u001b[0mtoarray\u001b[0m\u001b[0;34m(\u001b[0m\u001b[0morder\u001b[0m\u001b[0;34m=\u001b[0m\u001b[0morder\u001b[0m\u001b[0;34m,\u001b[0m \u001b[0mout\u001b[0m\u001b[0;34m=\u001b[0m\u001b[0mout\u001b[0m\u001b[0;34m)\u001b[0m\u001b[0;34m\u001b[0m\u001b[0m\n\u001b[0m\u001b[1;32m    965\u001b[0m \u001b[0;34m\u001b[0m\u001b[0m\n\u001b[1;32m    966\u001b[0m     \u001b[0;31m##############################################################\u001b[0m\u001b[0;34m\u001b[0m\u001b[0;34m\u001b[0m\u001b[0m\n",
      "\u001b[0;32m~/anaconda3/envs/VenvPandas/lib/python3.6/site-packages/scipy/sparse/coo.py\u001b[0m in \u001b[0;36mtoarray\u001b[0;34m(self, order, out)\u001b[0m\n\u001b[1;32m    250\u001b[0m     \u001b[0;32mdef\u001b[0m \u001b[0mtoarray\u001b[0m\u001b[0;34m(\u001b[0m\u001b[0mself\u001b[0m\u001b[0;34m,\u001b[0m \u001b[0morder\u001b[0m\u001b[0;34m=\u001b[0m\u001b[0;32mNone\u001b[0m\u001b[0;34m,\u001b[0m \u001b[0mout\u001b[0m\u001b[0;34m=\u001b[0m\u001b[0;32mNone\u001b[0m\u001b[0;34m)\u001b[0m\u001b[0;34m:\u001b[0m\u001b[0;34m\u001b[0m\u001b[0m\n\u001b[1;32m    251\u001b[0m         \u001b[0;34m\"\"\"See the docstring for `spmatrix.toarray`.\"\"\"\u001b[0m\u001b[0;34m\u001b[0m\u001b[0m\n\u001b[0;32m--> 252\u001b[0;31m         \u001b[0mB\u001b[0m \u001b[0;34m=\u001b[0m \u001b[0mself\u001b[0m\u001b[0;34m.\u001b[0m\u001b[0m_process_toarray_args\u001b[0m\u001b[0;34m(\u001b[0m\u001b[0morder\u001b[0m\u001b[0;34m,\u001b[0m \u001b[0mout\u001b[0m\u001b[0;34m)\u001b[0m\u001b[0;34m\u001b[0m\u001b[0m\n\u001b[0m\u001b[1;32m    253\u001b[0m         \u001b[0mfortran\u001b[0m \u001b[0;34m=\u001b[0m \u001b[0mint\u001b[0m\u001b[0;34m(\u001b[0m\u001b[0mB\u001b[0m\u001b[0;34m.\u001b[0m\u001b[0mflags\u001b[0m\u001b[0;34m.\u001b[0m\u001b[0mf_contiguous\u001b[0m\u001b[0;34m)\u001b[0m\u001b[0;34m\u001b[0m\u001b[0m\n\u001b[1;32m    254\u001b[0m         \u001b[0;32mif\u001b[0m \u001b[0;32mnot\u001b[0m \u001b[0mfortran\u001b[0m \u001b[0;32mand\u001b[0m \u001b[0;32mnot\u001b[0m \u001b[0mB\u001b[0m\u001b[0;34m.\u001b[0m\u001b[0mflags\u001b[0m\u001b[0;34m.\u001b[0m\u001b[0mc_contiguous\u001b[0m\u001b[0;34m:\u001b[0m\u001b[0;34m\u001b[0m\u001b[0m\n",
      "\u001b[0;32m~/anaconda3/envs/VenvPandas/lib/python3.6/site-packages/scipy/sparse/base.py\u001b[0m in \u001b[0;36m_process_toarray_args\u001b[0;34m(self, order, out)\u001b[0m\n\u001b[1;32m   1037\u001b[0m             \u001b[0;32mreturn\u001b[0m \u001b[0mout\u001b[0m\u001b[0;34m\u001b[0m\u001b[0m\n\u001b[1;32m   1038\u001b[0m         \u001b[0;32melse\u001b[0m\u001b[0;34m:\u001b[0m\u001b[0;34m\u001b[0m\u001b[0m\n\u001b[0;32m-> 1039\u001b[0;31m             \u001b[0;32mreturn\u001b[0m \u001b[0mnp\u001b[0m\u001b[0;34m.\u001b[0m\u001b[0mzeros\u001b[0m\u001b[0;34m(\u001b[0m\u001b[0mself\u001b[0m\u001b[0;34m.\u001b[0m\u001b[0mshape\u001b[0m\u001b[0;34m,\u001b[0m \u001b[0mdtype\u001b[0m\u001b[0;34m=\u001b[0m\u001b[0mself\u001b[0m\u001b[0;34m.\u001b[0m\u001b[0mdtype\u001b[0m\u001b[0;34m,\u001b[0m \u001b[0morder\u001b[0m\u001b[0;34m=\u001b[0m\u001b[0morder\u001b[0m\u001b[0;34m)\u001b[0m\u001b[0;34m\u001b[0m\u001b[0m\n\u001b[0m\u001b[1;32m   1040\u001b[0m \u001b[0;34m\u001b[0m\u001b[0m\n\u001b[1;32m   1041\u001b[0m     \u001b[0;32mdef\u001b[0m \u001b[0m__numpy_ufunc__\u001b[0m\u001b[0;34m(\u001b[0m\u001b[0mself\u001b[0m\u001b[0;34m,\u001b[0m \u001b[0mfunc\u001b[0m\u001b[0;34m,\u001b[0m \u001b[0mmethod\u001b[0m\u001b[0;34m,\u001b[0m \u001b[0mpos\u001b[0m\u001b[0;34m,\u001b[0m \u001b[0minputs\u001b[0m\u001b[0;34m,\u001b[0m \u001b[0;34m**\u001b[0m\u001b[0mkwargs\u001b[0m\u001b[0;34m)\u001b[0m\u001b[0;34m:\u001b[0m\u001b[0;34m\u001b[0m\u001b[0m\n",
      "\u001b[0;31mMemoryError\u001b[0m: "
     ]
    }
   ],
   "source": [
    "from sklearn.feature_extraction.text import TfidfVectorizer\n",
    "\n",
    "\n",
    "tfidf = TfidfVectorizer(ngram_range=(1,2),stop_words='english',min_df=5,encoding='latin-1',norm='l2',sublinear_tf=True)\n",
    "\n",
    "features = tfidf.fit_transform(df_train.Consumer_complaint_narrative).toarray()\n",
    "\n",
    "labels = df_train.category_id\n",
    "features.shape"
   ]
  },
  {
   "cell_type": "code",
   "execution_count": 12,
   "metadata": {},
   "outputs": [],
   "source": [
    "from sklearn.model_selection import train_test_split\n",
    "df_train , df_test = train_test_split(df, test_size = .99)"
   ]
  },
  {
   "cell_type": "code",
   "execution_count": 13,
   "metadata": {},
   "outputs": [
    {
     "data": {
      "text/plain": [
       "Product                         3121\n",
       "Consumer_complaint_narrative    3121\n",
       "Category_id                     3121\n",
       "dtype: int64"
      ]
     },
     "execution_count": 13,
     "metadata": {},
     "output_type": "execute_result"
    }
   ],
   "source": [
    "df_train.count()"
   ]
  },
  {
   "cell_type": "code",
   "execution_count": 14,
   "metadata": {
    "collapsed": true
   },
   "outputs": [],
   "source": [
    "del(df_test)"
   ]
  },
  {
   "cell_type": "code",
   "execution_count": 15,
   "metadata": {},
   "outputs": [
    {
     "data": {
      "text/plain": [
       "(3121, 8685)"
      ]
     },
     "execution_count": 15,
     "metadata": {},
     "output_type": "execute_result"
    }
   ],
   "source": [
    "from sklearn.feature_extraction.text import TfidfVectorizer\n",
    "\n",
    "\n",
    "tfidf = TfidfVectorizer(ngram_range=(1,2),stop_words='english',min_df=5,encoding='latin-1',norm='l2',sublinear_tf=True)\n",
    "\n",
    "features = tfidf.fit_transform(df_train.Consumer_complaint_narrative).toarray()\n",
    "\n",
    "labels = df_train.Category_id\n",
    "features.shape"
   ]
  },
  {
   "cell_type": "code",
   "execution_count": 26,
   "metadata": {},
   "outputs": [
    {
     "name": "stdout",
     "output_type": "stream",
     "text": [
      "# 'Credit reporting':\n",
      "  . Most correlated unigrams:\n",
      ". equifax\n",
      ". experian\n",
      "  . Most correlated bigrams:\n",
      ". properly investigate\n",
      ". equifax refuses\n",
      "# 'Consumer Loan':\n",
      "  . Most correlated unigrams:\n",
      ". vehicle\n",
      ". car\n",
      "  . Most correlated bigrams:\n",
      ". car loan\n",
      ". charged rate\n",
      "# 'Debt collection':\n",
      "  . Most correlated unigrams:\n",
      ". collection\n",
      ". debt\n",
      "  . Most correlated bigrams:\n",
      ". collection agency\n",
      ". collect debt\n",
      "# 'Mortgage':\n",
      "  . Most correlated unigrams:\n",
      ". modification\n",
      ". mortgage\n",
      "  . Most correlated bigrams:\n",
      ". mortgage company\n",
      ". loan modification\n",
      "# 'Credit card':\n",
      "  . Most correlated unigrams:\n",
      ". citibank\n",
      ". card\n",
      "  . Most correlated bigrams:\n",
      ". card did\n",
      ". credit card\n",
      "# 'Other financial service':\n",
      "  . Most correlated unigrams:\n",
      ". 480\n",
      ". western\n",
      "  . Most correlated bigrams:\n",
      ". western union\n",
      ". money order\n",
      "# 'Bank account or service':\n",
      "  . Most correlated unigrams:\n",
      ". bank\n",
      ". overdraft\n",
      "  . Most correlated bigrams:\n",
      ". overdraft fees\n",
      ". monthly fee\n",
      "# 'Student loan':\n",
      "  . Most correlated unigrams:\n",
      ". student\n",
      ". navient\n",
      "  . Most correlated bigrams:\n",
      ". student loans\n",
      ". student loan\n",
      "# 'Money transfers':\n",
      "  . Most correlated unigrams:\n",
      ". fund\n",
      ". western\n",
      "  . Most correlated bigrams:\n",
      ". western union\n",
      ". money transfer\n",
      "# 'Payday loan':\n",
      "  . Most correlated unigrams:\n",
      ". payday\n",
      ". speedy\n",
      "  . Most correlated bigrams:\n",
      ". money company\n",
      ". loan got\n",
      "# 'Prepaid card':\n",
      "  . Most correlated unigrams:\n",
      ". net\n",
      ". threw\n",
      "  . Most correlated bigrams:\n",
      ". direct deposit\n",
      ". access funds\n",
      "# 'Money transfer, virtual currency, or money service':\n",
      "  . Most correlated unigrams:\n",
      ". bitcoin\n",
      ". coinbase\n",
      "  . Most correlated bigrams:\n",
      ". coinbase com\n",
      ". xxxx coinbase\n",
      "# 'Credit reporting, credit repair services, or other personal consumer reports':\n",
      "  . Most correlated unigrams:\n",
      ". equifax\n",
      ". inquiries\n",
      "  . Most correlated bigrams:\n",
      ". appear report\n",
      ". credit report\n",
      "# 'Checking or savings account':\n",
      "  . Most correlated unigrams:\n",
      ". deposit\n",
      ". checking\n",
      "  . Most correlated bigrams:\n",
      ". 00 bonus\n",
      ". checking account\n",
      "# 'Vehicle loan or lease':\n",
      "  . Most correlated unigrams:\n",
      ". vehicle\n",
      ". car\n",
      "  . Most correlated bigrams:\n",
      ". car sold\n",
      ". car xxxx\n",
      "# 'Credit card or prepaid card':\n",
      "  . Most correlated unigrams:\n",
      ". comenity\n",
      ". card\n",
      "  . Most correlated bigrams:\n",
      ". use card\n",
      ". credit card\n",
      "# 'Virtual currency':\n",
      "  . Most correlated unigrams:\n",
      ". 75\n",
      ". anytime\n",
      "  . Most correlated bigrams:\n",
      ". coinbase com\n",
      ". 75 00\n",
      "# 'Payday loan, title loan, or personal loan':\n",
      "  . Most correlated unigrams:\n",
      ". tomorrow\n",
      ". overpaid\n",
      "  . Most correlated bigrams:\n",
      ". payment schedule\n",
      ". 00 loan\n"
     ]
    }
   ],
   "source": [
    "from sklearn.feature_selection import chi2\n",
    "N = 2\n",
    "for product, category in category_to_id.items():\n",
    "    features_chi = chi2(features, labels== category)\n",
    "    indices = np.argsort(features_chi[0])\n",
    "    feature_name = np.array(tfidf.get_feature_names())[indices]\n",
    "    unigrams = [v for v in feature_name if len(v.split())==1]\n",
    "    bigrams = [v for v in feature_name if len(v.split())==2]\n",
    "    print(\"# '{}':\".format(product))\n",
    "    print(\"  . Most correlated unigrams:\\n. {}\".format('\\n. '.join(unigrams[-N:])))\n",
    "    print(\"  . Most correlated bigrams:\\n. {}\".format('\\n. '.join(bigrams[-N:])))    "
   ]
  },
  {
   "cell_type": "code",
   "execution_count": 24,
   "metadata": {},
   "outputs": [
    {
     "data": {
      "text/plain": [
       "(array([ 0.2342302 ,  0.00741135,  0.00359979, ...,  0.01623593,\n",
       "         0.01433243,  0.00687017]),\n",
       " array([ 0.62840478,  0.9313955 ,  0.95215705, ...,  0.89860776,\n",
       "         0.90470646,  0.93394182]))"
      ]
     },
     "execution_count": 24,
     "metadata": {},
     "output_type": "execute_result"
    }
   ],
   "source": [
    "features_chi"
   ]
  },
  {
   "cell_type": "markdown",
   "metadata": {},
   "source": [
    "After all the above data transformation, now that we have all the features and labels, it is time to train the classifiers. There are a number of algorithms we can use for this type of problem"
   ]
  },
  {
   "cell_type": "code",
   "execution_count": 29,
   "metadata": {
    "collapsed": true
   },
   "outputs": [],
   "source": [
    "from sklearn.feature_extraction.text import CountVectorizer\n",
    "from sklearn.feature_extraction.text import TfidfTransformer\n",
    "from sklearn.naive_bayes import MultinomialNB"
   ]
  },
  {
   "cell_type": "code",
   "execution_count": 30,
   "metadata": {
    "collapsed": true
   },
   "outputs": [],
   "source": [
    "MultinomialNB?"
   ]
  },
  {
   "cell_type": "code",
   "execution_count": 42,
   "metadata": {},
   "outputs": [],
   "source": [
    "x_train, x_test,y_train, y_test = train_test_split(df_train.Consumer_complaint_narrative, \n",
    "                                                    df_train.Product, test_size=0.1, random_state = 2)\n",
    "count_vect = CountVectorizer()\n",
    "x_train_counts = count_vect.fit_transform(x_train)\n",
    "tfid_transformer = TfidfTransformer()\n",
    "x_train_tfidf = tfid_transformer.fit_transform(x_train_counts)\n",
    "clf = MultinomialNB().fit(x_train_tfidf,y_train)\n"
   ]
  },
  {
   "cell_type": "code",
   "execution_count": 43,
   "metadata": {},
   "outputs": [
    {
     "name": "stdout",
     "output_type": "stream",
     "text": [
      "(2808,)\n",
      "(2808, 11308)\n",
      "(2808, 11308)\n",
      "(2808,)\n"
     ]
    }
   ],
   "source": [
    "print(x_train.shape)\n",
    "print(x_train_tfidf.shape)\n",
    "print(x_train_counts.shape)\n",
    "print(y_train.shape)"
   ]
  },
  {
   "cell_type": "markdown",
   "metadata": {},
   "source": [
    "After fitting the training set, let’s make some predictions."
   ]
  },
  {
   "cell_type": "code",
   "execution_count": 44,
   "metadata": {},
   "outputs": [
    {
     "name": "stdout",
     "output_type": "stream",
     "text": [
      "['Debt collection']\n"
     ]
    }
   ],
   "source": [
    "print(clf.predict(count_vect.transform([\"This company refuses to provide me verification and validation of debt per my right under the FDCPA. I do not believe this debt is mine.\"])))"
   ]
  },
  {
   "cell_type": "code",
   "execution_count": 45,
   "metadata": {},
   "outputs": [
    {
     "data": {
      "text/html": [
       "<div>\n",
       "<style>\n",
       "    .dataframe thead tr:only-child th {\n",
       "        text-align: right;\n",
       "    }\n",
       "\n",
       "    .dataframe thead th {\n",
       "        text-align: left;\n",
       "    }\n",
       "\n",
       "    .dataframe tbody tr th {\n",
       "        vertical-align: top;\n",
       "    }\n",
       "</style>\n",
       "<table border=\"1\" class=\"dataframe\">\n",
       "  <thead>\n",
       "    <tr style=\"text-align: right;\">\n",
       "      <th></th>\n",
       "      <th>Product</th>\n",
       "      <th>Consumer_complaint_narrative</th>\n",
       "      <th>Category_id</th>\n",
       "    </tr>\n",
       "  </thead>\n",
       "  <tbody>\n",
       "    <tr>\n",
       "      <th>12</th>\n",
       "      <td>Debt collection</td>\n",
       "      <td>This company refuses to provide me verificatio...</td>\n",
       "      <td>2</td>\n",
       "    </tr>\n",
       "  </tbody>\n",
       "</table>\n",
       "</div>"
      ],
      "text/plain": [
       "            Product                       Consumer_complaint_narrative  \\\n",
       "12  Debt collection  This company refuses to provide me verificatio...   \n",
       "\n",
       "    Category_id  \n",
       "12            2  "
      ]
     },
     "execution_count": 45,
     "metadata": {},
     "output_type": "execute_result"
    }
   ],
   "source": [
    "df[df['Consumer_complaint_narrative'] == \"This company refuses to provide me verification and validation of debt per my right under the FDCPA. I do not believe this debt is mine.\"]"
   ]
  },
  {
   "cell_type": "code",
   "execution_count": 46,
   "metadata": {},
   "outputs": [
    {
     "name": "stdout",
     "output_type": "stream",
     "text": [
      "[ 'Credit reporting, credit repair services, or other personal consumer reports']\n"
     ]
    }
   ],
   "source": [
    "print(clf.predict(count_vect.transform([\"I am disputing the inaccurate information the Chex-Systems has on my credit report. I initially submitted a police report on XXXX/XXXX/16 and Chex Systems only deleted the items that I mentioned in the letter and not all the items that were actually listed on the police report. In other words they wanted me to say word for word to them what items were fraudulent. The total disregard of the police report and what accounts that it states that are fraudulent. If they just had paid a little closer attention to the police report I would not been in this position now and they would n't have to research once again. I would like the reported information to be removed : XXXX XXXX XXXX\"])))"
   ]
  },
  {
   "cell_type": "code",
   "execution_count": 47,
   "metadata": {},
   "outputs": [
    {
     "data": {
      "text/html": [
       "<div>\n",
       "<style>\n",
       "    .dataframe thead tr:only-child th {\n",
       "        text-align: right;\n",
       "    }\n",
       "\n",
       "    .dataframe thead th {\n",
       "        text-align: left;\n",
       "    }\n",
       "\n",
       "    .dataframe tbody tr th {\n",
       "        vertical-align: top;\n",
       "    }\n",
       "</style>\n",
       "<table border=\"1\" class=\"dataframe\">\n",
       "  <thead>\n",
       "    <tr style=\"text-align: right;\">\n",
       "      <th></th>\n",
       "      <th>Product</th>\n",
       "      <th>Consumer_complaint_narrative</th>\n",
       "      <th>Category_id</th>\n",
       "    </tr>\n",
       "  </thead>\n",
       "  <tbody>\n",
       "    <tr>\n",
       "      <th>61</th>\n",
       "      <td>Credit reporting</td>\n",
       "      <td>I am disputing the inaccurate information the ...</td>\n",
       "      <td>0</td>\n",
       "    </tr>\n",
       "  </tbody>\n",
       "</table>\n",
       "</div>"
      ],
      "text/plain": [
       "             Product                       Consumer_complaint_narrative  \\\n",
       "61  Credit reporting  I am disputing the inaccurate information the ...   \n",
       "\n",
       "    Category_id  \n",
       "61            0  "
      ]
     },
     "execution_count": 47,
     "metadata": {},
     "output_type": "execute_result"
    }
   ],
   "source": [
    "df[df['Consumer_complaint_narrative'] == \"I am disputing the inaccurate information the Chex-Systems has on my credit report. I initially submitted a police report on XXXX/XXXX/16 and Chex Systems only deleted the items that I mentioned in the letter and not all the items that were actually listed on the police report. In other words they wanted me to say word for word to them what items were fraudulent. The total disregard of the police report and what accounts that it states that are fraudulent. If they just had paid a little closer attention to the police report I would not been in this position now and they would n't have to research once again. I would like the reported information to be removed : XXXX XXXX XXXX\"]"
   ]
  },
  {
   "cell_type": "markdown",
   "metadata": {},
   "source": [
    "## Model Selection\n",
    "\n",
    "We are now ready to experiment with different machine learning models, evaluate their accuracy and find the source of any potential issues.\n",
    "\n",
    "We will benchmark the following __4 models:__\n",
    "-   Logistic Regression\n",
    "-  (Multinomial) Naive Bayes\n",
    "-  Linear Support Vector Machine\n",
    "-  Random Forest"
   ]
  },
  {
   "cell_type": "code",
   "execution_count": null,
   "metadata": {
    "collapsed": true
   },
   "outputs": [],
   "source": []
  },
  {
   "cell_type": "code",
   "execution_count": null,
   "metadata": {
    "collapsed": true
   },
   "outputs": [],
   "source": []
  },
  {
   "cell_type": "code",
   "execution_count": null,
   "metadata": {
    "collapsed": true
   },
   "outputs": [],
   "source": []
  },
  {
   "cell_type": "code",
   "execution_count": null,
   "metadata": {
    "collapsed": true
   },
   "outputs": [],
   "source": []
  },
  {
   "cell_type": "code",
   "execution_count": null,
   "metadata": {
    "collapsed": true
   },
   "outputs": [],
   "source": []
  },
  {
   "cell_type": "code",
   "execution_count": null,
   "metadata": {
    "collapsed": true
   },
   "outputs": [],
   "source": []
  },
  {
   "cell_type": "code",
   "execution_count": null,
   "metadata": {
    "collapsed": true
   },
   "outputs": [],
   "source": []
  },
  {
   "cell_type": "markdown",
   "metadata": {
    "collapsed": true
   },
   "source": [
    "One common approach for extracting features from the text is to use the bag of words model: a model where for each document, a complaint narrative in our case, the presence (and often the frequency) of words is taken into consideration, but the order in which they occur is ignored."
   ]
  },
  {
   "cell_type": "markdown",
   "metadata": {
    "collapsed": true
   },
   "source": [
    "### Summary\n",
    "-  __categorical__ variables are often better represented by integers than strings.\n",
    "-  The classifiers and learning algorithms can not directly process the text documents in their original form, as most of them expect numerical feature vectors with a fixed size rather than the raw text documents with variable length\n",
    "- One __common approach__ for __extracting features from text is__ to use __bag of words__ model: a model where for each document ,(a complaint narraive in our case) the __presence (and often the frequency) of words is taken into consideration,__  but the __order__, in which the occur __ is ignored__"
   ]
  },
  {
   "cell_type": "markdown",
   "metadata": {},
   "source": [
    "#### References\n",
    " - http://scikit-learn.org/stable/modules/feature_extraction.html#text-feature-extraction"
   ]
  },
  {
   "cell_type": "code",
   "execution_count": null,
   "metadata": {
    "collapsed": true
   },
   "outputs": [],
   "source": []
  },
  {
   "cell_type": "code",
   "execution_count": null,
   "metadata": {
    "collapsed": true
   },
   "outputs": [],
   "source": []
  },
  {
   "cell_type": "code",
   "execution_count": null,
   "metadata": {
    "collapsed": true
   },
   "outputs": [],
   "source": []
  },
  {
   "cell_type": "code",
   "execution_count": null,
   "metadata": {
    "collapsed": true
   },
   "outputs": [],
   "source": []
  },
  {
   "cell_type": "code",
   "execution_count": null,
   "metadata": {
    "collapsed": true
   },
   "outputs": [],
   "source": []
  },
  {
   "cell_type": "code",
   "execution_count": null,
   "metadata": {
    "collapsed": true
   },
   "outputs": [],
   "source": []
  },
  {
   "cell_type": "code",
   "execution_count": null,
   "metadata": {
    "collapsed": true
   },
   "outputs": [],
   "source": []
  },
  {
   "cell_type": "code",
   "execution_count": null,
   "metadata": {
    "collapsed": true
   },
   "outputs": [],
   "source": []
  }
 ],
 "metadata": {
  "kernelspec": {
   "display_name": "Python 3",
   "language": "python",
   "name": "python3"
  },
  "language_info": {
   "codemirror_mode": {
    "name": "ipython",
    "version": 3
   },
   "file_extension": ".py",
   "mimetype": "text/x-python",
   "name": "python",
   "nbconvert_exporter": "python",
   "pygments_lexer": "ipython3",
   "version": "3.6.2"
  }
 },
 "nbformat": 4,
 "nbformat_minor": 2
}
