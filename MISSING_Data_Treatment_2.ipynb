{
 "cells": [
  {
   "cell_type": "markdown",
   "metadata": {},
   "source": [
    "## Objective - Learng the techniques to handle missing data.\n",
    "\n",
    "-  Python libraries represent __missing numbers as nan__ which is short for \"not a number\".\n",
    "-  Most libraries (including scikit-learn) will give you an error if you try to build a model using data with missing values.So you'll need to choose one of the strategies below.\n",
    "\n",
    "### Solutions:\n",
    "1. #### A Simple Option: Drop Columns with Missing Values\n",
    "2. #### A Better Option: Imputation\n",
    "    Imputation fills in the missing value with some number. \n",
    "    <blockquote>\n",
    "    from sklearn.preprocessing import Imputer<br>\n",
    "    imputer = Imputer()<br>\n",
    "    imputed_data = impter.fit_transform(data)<br>\n",
    "    </blockquote>\n",
    "3. #### Extension of Imputation\n",
    "     imputed values may by systematically above or below their actual values (which weren't collected in the dataset). Or rows with missing values may be unique in some other way. In that case, your model would make better predictions by considering which values were originally missing. \n",
    "     <blockquote>\n",
    "    <p>\n",
    "      make copy to avoid changing original data (when Imputing)<br>\n",
    "        new_data = original_data.copy()<br><br>\n",
    "\n",
    "     make new columns indicating what will be imputed<br>\n",
    "        cols_with_missing = (col for col in new_data.columns <br>\n",
    "                                 if new_data[col].isnull().any())<br><br>\n",
    "        for col in cols_with_missing:<br>\n",
    "            new_data[col + '_was_missing'] = new_data[col].isnull()<br><br>\n",
    "\n",
    "     Imputation<br>\n",
    "        my_imputer = SimpleImputer()<br>\n",
    "        new_data = pd.DataFrame(my_imputer.fit_transform(new_data))<br>\n",
    "        new_data.columns = original_data.columns<br>\n",
    "</p>\n",
    "</blockquote>\n",
    "\n"
   ]
  },
  {
   "cell_type": "code",
   "execution_count": 4,
   "metadata": {},
   "outputs": [],
   "source": [
    "import pandas as pd\n",
    "df = pd.read_csv('./Data/melb_data.csv')"
   ]
  },
  {
   "cell_type": "code",
   "execution_count": 7,
   "metadata": {},
   "outputs": [
    {
     "name": "stdout",
     "output_type": "stream",
     "text": [
      "(13580, 21) \n",
      "\n",
      "<class 'pandas.core.frame.DataFrame'>\n",
      "RangeIndex: 13580 entries, 0 to 13579\n",
      "Data columns (total 21 columns):\n",
      "Suburb           13580 non-null object\n",
      "Address          13580 non-null object\n",
      "Rooms            13580 non-null int64\n",
      "Type             13580 non-null object\n",
      "Price            13580 non-null float64\n",
      "Method           13580 non-null object\n",
      "SellerG          13580 non-null object\n",
      "Date             13580 non-null object\n",
      "Distance         13580 non-null float64\n",
      "Postcode         13580 non-null float64\n",
      "Bedroom2         13580 non-null float64\n",
      "Bathroom         13580 non-null float64\n",
      "Car              13518 non-null float64\n",
      "Landsize         13580 non-null float64\n",
      "BuildingArea     7130 non-null float64\n",
      "YearBuilt        8205 non-null float64\n",
      "CouncilArea      12211 non-null object\n",
      "Lattitude        13580 non-null float64\n",
      "Longtitude       13580 non-null float64\n",
      "Regionname       13580 non-null object\n",
      "Propertycount    13580 non-null float64\n",
      "dtypes: float64(12), int64(1), object(8)\n",
      "memory usage: 2.2+ MB\n",
      "None \n",
      "\n",
      "                 count          mean            std          min  \\\n",
      "Rooms          13580.0  2.937997e+00       0.955748      1.00000   \n",
      "Price          13580.0  1.075684e+06  639310.724296  85000.00000   \n",
      "Distance       13580.0  1.013778e+01       5.868725      0.00000   \n",
      "Postcode       13580.0  3.105302e+03      90.676964   3000.00000   \n",
      "Bedroom2       13580.0  2.914728e+00       0.965921      0.00000   \n",
      "Bathroom       13580.0  1.534242e+00       0.691712      0.00000   \n",
      "Car            13518.0  1.610075e+00       0.962634      0.00000   \n",
      "Landsize       13580.0  5.584161e+02    3990.669241      0.00000   \n",
      "BuildingArea    7130.0  1.519676e+02     541.014538      0.00000   \n",
      "YearBuilt       8205.0  1.964684e+03      37.273762   1196.00000   \n",
      "Lattitude      13580.0 -3.780920e+01       0.079260    -38.18255   \n",
      "Longtitude     13580.0  1.449952e+02       0.103916    144.43181   \n",
      "Propertycount  13580.0  7.454417e+03    4378.581772    249.00000   \n",
      "\n",
      "                         25%            50%           75%           max  \n",
      "Rooms               2.000000       3.000000  3.000000e+00  1.000000e+01  \n",
      "Price          650000.000000  903000.000000  1.330000e+06  9.000000e+06  \n",
      "Distance            6.100000       9.200000  1.300000e+01  4.810000e+01  \n",
      "Postcode         3044.000000    3084.000000  3.148000e+03  3.977000e+03  \n",
      "Bedroom2            2.000000       3.000000  3.000000e+00  2.000000e+01  \n",
      "Bathroom            1.000000       1.000000  2.000000e+00  8.000000e+00  \n",
      "Car                 1.000000       2.000000  2.000000e+00  1.000000e+01  \n",
      "Landsize          177.000000     440.000000  6.510000e+02  4.330140e+05  \n",
      "BuildingArea       93.000000     126.000000  1.740000e+02  4.451500e+04  \n",
      "YearBuilt        1940.000000    1970.000000  1.999000e+03  2.018000e+03  \n",
      "Lattitude         -37.856822     -37.802355 -3.775640e+01 -3.740853e+01  \n",
      "Longtitude        144.929600     145.000100  1.450583e+02  1.455264e+02  \n",
      "Propertycount    4380.000000    6555.000000  1.033100e+04  2.165000e+04   \n",
      "\n",
      "        Suburb              Address  Rooms Type      Price Method  SellerG  \\\n",
      "0   Abbotsford         85 Turner St      2    h  1480000.0      S   Biggin   \n",
      "1   Abbotsford      25 Bloomburg St      2    h  1035000.0      S   Biggin   \n",
      "2   Abbotsford         5 Charles St      3    h  1465000.0     SP   Biggin   \n",
      "3   Abbotsford     40 Federation La      3    h   850000.0     PI   Biggin   \n",
      "4   Abbotsford          55a Park St      4    h  1600000.0     VB   Nelson   \n",
      "5   Abbotsford       129 Charles St      2    h   941000.0      S   Jellis   \n",
      "6   Abbotsford         124 Yarra St      3    h  1876000.0      S   Nelson   \n",
      "7   Abbotsford        98 Charles St      2    h  1636000.0      S   Nelson   \n",
      "8   Abbotsford   6/241 Nicholson St      1    u   300000.0      S   Biggin   \n",
      "9   Abbotsford        10 Valiant St      2    h  1097000.0      S   Biggin   \n",
      "10  Abbotsford   411/8 Grosvenor St      2    u   700000.0     VB   Jellis   \n",
      "11  Abbotsford      40 Nicholson St      3    h  1350000.0     VB   Nelson   \n",
      "12  Abbotsford  123/56 Nicholson St      2    u   750000.0      S   Biggin   \n",
      "13  Abbotsford        45 William St      2    h  1172500.0      S   Biggin   \n",
      "14  Abbotsford   7/20 Abbotsford St      1    u   441000.0     SP     Greg   \n",
      "15  Abbotsford        16 William St      2    h  1310000.0      S   Jellis   \n",
      "16  Abbotsford          42 Henry St      3    h  1200000.0      S   Jellis   \n",
      "17  Abbotsford          78 Yarra St      3    h  1176500.0      S   LITTLE   \n",
      "18  Abbotsford     196 Nicholson St      3    h   955000.0      S  Collins   \n",
      "19  Abbotsford        42 Valiant St      2    h   890000.0      S   Biggin   \n",
      "\n",
      "          Date  Distance  Postcode      ...       Bathroom  Car  Landsize  \\\n",
      "0    3/12/2016       2.5    3067.0      ...            1.0  1.0     202.0   \n",
      "1    4/02/2016       2.5    3067.0      ...            1.0  0.0     156.0   \n",
      "2    4/03/2017       2.5    3067.0      ...            2.0  0.0     134.0   \n",
      "3    4/03/2017       2.5    3067.0      ...            2.0  1.0      94.0   \n",
      "4    4/06/2016       2.5    3067.0      ...            1.0  2.0     120.0   \n",
      "5    7/05/2016       2.5    3067.0      ...            1.0  0.0     181.0   \n",
      "6    7/05/2016       2.5    3067.0      ...            2.0  0.0     245.0   \n",
      "7    8/10/2016       2.5    3067.0      ...            1.0  2.0     256.0   \n",
      "8    8/10/2016       2.5    3067.0      ...            1.0  1.0       0.0   \n",
      "9    8/10/2016       2.5    3067.0      ...            1.0  2.0     220.0   \n",
      "10  12/11/2016       2.5    3067.0      ...            2.0  1.0       0.0   \n",
      "11  12/11/2016       2.5    3067.0      ...            2.0  2.0     214.0   \n",
      "12  12/11/2016       2.5    3067.0      ...            2.0  1.0       0.0   \n",
      "13  13/08/2016       2.5    3067.0      ...            1.0  1.0     195.0   \n",
      "14  14/05/2016       2.5    3067.0      ...            1.0  1.0       0.0   \n",
      "15  15/10/2016       2.5    3067.0      ...            1.0  2.0     238.0   \n",
      "16  16/07/2016       2.5    3067.0      ...            2.0  1.0     113.0   \n",
      "17  16/07/2016       2.5    3067.0      ...            1.0  1.0     138.0   \n",
      "18  17/09/2016       2.5    3067.0      ...            1.0  0.0     183.0   \n",
      "19  17/09/2016       2.5    3067.0      ...            1.0  1.0     150.0   \n",
      "\n",
      "    BuildingArea  YearBuilt  CouncilArea Lattitude  Longtitude  \\\n",
      "0            NaN        NaN        Yarra  -37.7996    144.9984   \n",
      "1           79.0     1900.0        Yarra  -37.8079    144.9934   \n",
      "2          150.0     1900.0        Yarra  -37.8093    144.9944   \n",
      "3            NaN        NaN        Yarra  -37.7969    144.9969   \n",
      "4          142.0     2014.0        Yarra  -37.8072    144.9941   \n",
      "5            NaN        NaN        Yarra  -37.8041    144.9953   \n",
      "6          210.0     1910.0        Yarra  -37.8024    144.9993   \n",
      "7          107.0     1890.0        Yarra  -37.8060    144.9954   \n",
      "8            NaN        NaN        Yarra  -37.8008    144.9973   \n",
      "9           75.0     1900.0        Yarra  -37.8010    144.9989   \n",
      "10           NaN        NaN        Yarra  -37.8110    145.0067   \n",
      "11         190.0     2005.0        Yarra  -37.8085    144.9964   \n",
      "12          94.0     2009.0        Yarra  -37.8078    144.9965   \n",
      "13           NaN        NaN        Yarra  -37.8084    144.9973   \n",
      "14           NaN        NaN        Yarra  -37.8016    144.9988   \n",
      "15          97.0     1890.0        Yarra  -37.8090    144.9976   \n",
      "16         110.0     1880.0        Yarra  -37.8056    144.9930   \n",
      "17         105.0     1890.0        Yarra  -37.8021    144.9965   \n",
      "18           NaN        NaN        Yarra  -37.8022    144.9975   \n",
      "19          73.0     1985.0        Yarra  -37.8011    145.0004   \n",
      "\n",
      "               Regionname Propertycount  \n",
      "0   Northern Metropolitan        4019.0  \n",
      "1   Northern Metropolitan        4019.0  \n",
      "2   Northern Metropolitan        4019.0  \n",
      "3   Northern Metropolitan        4019.0  \n",
      "4   Northern Metropolitan        4019.0  \n",
      "5   Northern Metropolitan        4019.0  \n",
      "6   Northern Metropolitan        4019.0  \n",
      "7   Northern Metropolitan        4019.0  \n",
      "8   Northern Metropolitan        4019.0  \n",
      "9   Northern Metropolitan        4019.0  \n",
      "10  Northern Metropolitan        4019.0  \n",
      "11  Northern Metropolitan        4019.0  \n",
      "12  Northern Metropolitan        4019.0  \n",
      "13  Northern Metropolitan        4019.0  \n",
      "14  Northern Metropolitan        4019.0  \n",
      "15  Northern Metropolitan        4019.0  \n",
      "16  Northern Metropolitan        4019.0  \n",
      "17  Northern Metropolitan        4019.0  \n",
      "18  Northern Metropolitan        4019.0  \n",
      "19  Northern Metropolitan        4019.0  \n",
      "\n",
      "[20 rows x 21 columns] \n",
      "\n",
      "                  Suburb             Address  Rooms Type      Price Method  \\\n",
      "13560  Templestowe Lower      50 Caroline Dr      5    h  1400000.0      S   \n",
      "13561  Templestowe Lower           7 Dove Ct      4    h  1288000.0      S   \n",
      "13562          Thornbury     7 Ballantyne St      3    h  1450000.0      S   \n",
      "13563          Thornbury        201 Gooch St      3    h  1271000.0      S   \n",
      "13564        Tullamarine        7 Londrew Ct      3    h   540000.0      S   \n",
      "13565            Vermont      73 Nurlendi Rd      4    h  1263500.0      S   \n",
      "13566      Vermont South       9 Winswood Cl      4    h  1250000.0     PI   \n",
      "13567           Viewbank       149 Graham Rd      5    h  1316000.0     SP   \n",
      "13568           Wantirna  16 chesterfield Ct      4    h   951000.0      S   \n",
      "13569     Wantirna South        12 Armagh Cr      4    h  1323000.0      S   \n",
      "13570     Wantirna South       34 Fewster Dr      3    h   970000.0      S   \n",
      "13571     Wantirna South          15 Mara Cl      4    h  1330000.0      S   \n",
      "13572           Watsonia       76 Kenmare St      2    h   650000.0     PI   \n",
      "13573           Werribee         5 Nuragi Ct      4    h   635000.0      S   \n",
      "13574        Westmeadows          9 Black St      3    h   582000.0      S   \n",
      "13575      Wheelers Hill        12 Strada Cr      4    h  1245000.0      S   \n",
      "13576       Williamstown       77 Merrett Dr      3    h  1031000.0     SP   \n",
      "13577       Williamstown         83 Power St      3    h  1170000.0      S   \n",
      "13578       Williamstown        96 Verdon St      4    h  2500000.0     PI   \n",
      "13579         Yarraville          6 Agnes St      4    h  1285000.0     SP   \n",
      "\n",
      "             SellerG        Date  Distance  Postcode      ...       Bathroom  \\\n",
      "13560          Barry  26/08/2017      12.4    3107.0      ...            3.0   \n",
      "13561          Barry  26/08/2017      12.4    3107.0      ...            2.0   \n",
      "13562       Woodards  26/08/2017       7.0    3071.0      ...            1.0   \n",
      "13563         Nelson  26/08/2017       7.0    3071.0      ...            1.0   \n",
      "13564          Barry  26/08/2017      12.9    3043.0      ...            1.0   \n",
      "13565          Barry  26/08/2017      17.2    3133.0      ...            2.0   \n",
      "13566         Philip  26/08/2017      17.2    3133.0      ...            2.0   \n",
      "13567         Nelson  26/08/2017       8.9    3084.0      ...            3.0   \n",
      "13568            Ray  26/08/2017      14.7    3152.0      ...            2.0   \n",
      "13569          Barry  26/08/2017      14.7    3152.0      ...            2.0   \n",
      "13570          Barry  26/08/2017      14.7    3152.0      ...            2.0   \n",
      "13571          Barry  26/08/2017      14.7    3152.0      ...            2.0   \n",
      "13572       Morrison  26/08/2017      14.5    3087.0      ...            1.0   \n",
      "13573  hockingstuart  26/08/2017      14.7    3030.0      ...            2.0   \n",
      "13574            Red  26/08/2017      16.5    3049.0      ...            2.0   \n",
      "13575          Barry  26/08/2017      16.7    3150.0      ...            2.0   \n",
      "13576       Williams  26/08/2017       6.8    3016.0      ...            2.0   \n",
      "13577          Raine  26/08/2017       6.8    3016.0      ...            2.0   \n",
      "13578        Sweeney  26/08/2017       6.8    3016.0      ...            1.0   \n",
      "13579        Village  26/08/2017       6.3    3013.0      ...            1.0   \n",
      "\n",
      "       Car  Landsize  BuildingArea  YearBuilt  CouncilArea Lattitude  \\\n",
      "13560  2.0     717.0         310.0     1963.0          NaN -37.76630   \n",
      "13561  2.0     948.0           NaN        NaN          NaN -37.76078   \n",
      "13562  1.0     312.0           NaN        NaN          NaN -37.75870   \n",
      "13563  2.0     470.0         151.0     1950.0          NaN -37.75937   \n",
      "13564  1.0     607.0         102.0     1970.0          NaN -37.69423   \n",
      "13565  2.0     791.0           NaN        NaN          NaN -37.84467   \n",
      "13566  2.0     986.0           NaN        NaN          NaN -37.84679   \n",
      "13567  3.0     696.0           NaN        NaN          NaN -37.73501   \n",
      "13568  2.0     704.0         200.0     1981.0          NaN -37.85639   \n",
      "13569  2.0     551.0           NaN        NaN          NaN -37.87608   \n",
      "13570  2.0     674.0           NaN        NaN          NaN -37.88360   \n",
      "13571  2.0     717.0         191.0     1980.0          NaN -37.86887   \n",
      "13572  1.0     210.0          79.0     2006.0          NaN -37.70657   \n",
      "13573  1.0     662.0         172.0     1980.0          NaN -37.89327   \n",
      "13574  2.0     256.0           NaN        NaN          NaN -37.67917   \n",
      "13575  2.0     652.0           NaN     1981.0          NaN -37.90562   \n",
      "13576  2.0     333.0         133.0     1995.0          NaN -37.85927   \n",
      "13577  4.0     436.0           NaN     1997.0          NaN -37.85274   \n",
      "13578  5.0     866.0         157.0     1920.0          NaN -37.85908   \n",
      "13579  1.0     362.0         112.0     1920.0          NaN -37.81188   \n",
      "\n",
      "       Longtitude                  Regionname Propertycount  \n",
      "13560   145.11320        Eastern Metropolitan        5420.0  \n",
      "13561   145.10696        Eastern Metropolitan        5420.0  \n",
      "13562   144.99966       Northern Metropolitan        8870.0  \n",
      "13563   145.01534       Northern Metropolitan        8870.0  \n",
      "13564   144.88002        Western Metropolitan        3296.0  \n",
      "13565   145.19276        Eastern Metropolitan        4181.0  \n",
      "13566   145.20051        Eastern Metropolitan        4280.0  \n",
      "13567   145.08341        Eastern Metropolitan        2698.0  \n",
      "13568   145.23536        Eastern Metropolitan        5424.0  \n",
      "13569   145.22390        Eastern Metropolitan        7082.0  \n",
      "13570   145.22805        Eastern Metropolitan        7082.0  \n",
      "13571   145.22116        Eastern Metropolitan        7082.0  \n",
      "13572   145.07878       Northern Metropolitan        2329.0  \n",
      "13573   144.64789        Western Metropolitan       16166.0  \n",
      "13574   144.89390       Northern Metropolitan        2474.0  \n",
      "13575   145.16761  South-Eastern Metropolitan        7392.0  \n",
      "13576   144.87904        Western Metropolitan        6380.0  \n",
      "13577   144.88738        Western Metropolitan        6380.0  \n",
      "13578   144.89299        Western Metropolitan        6380.0  \n",
      "13579   144.88449        Western Metropolitan        6543.0  \n",
      "\n",
      "[20 rows x 21 columns] \n",
      "\n"
     ]
    }
   ],
   "source": [
    "print(df.shape,'\\n')\n",
    "print(df.info(),'\\n')\n",
    "print(df.describe().T,'\\n')\n",
    "print(df.head(20),'\\n')\n",
    "print(df.tail(20),'\\n')"
   ]
  },
  {
   "cell_type": "code",
   "execution_count": 21,
   "metadata": {},
   "outputs": [],
   "source": [
    "from sklearn.ensemble import RandomForestRegressor\n",
    "from sklearn.metrics import mean_absolute_error\n",
    "from sklearn.model_selection import train_test_split\n",
    "\n",
    "target = df['Price']\n",
    "predictors = df.drop(['Price'],axis=1)\n",
    "\n",
    "# for the sake of simplice - considering only the numeric predictors\n",
    "only_numeric_predictors = predictors.select_dtypes(exclude=['object'])"
   ]
  },
  {
   "cell_type": "markdown",
   "metadata": {},
   "source": [
    "##  Create function to measure Quality of an approach\n"
   ]
  },
  {
   "cell_type": "code",
   "execution_count": 22,
   "metadata": {},
   "outputs": [],
   "source": [
    "X_train, X_test, Y_train, Y_test = train_test_split(only_numeric_predictors, target, train_size=0.7,test_size=0.3, random_state=7)\n",
    "\n",
    "def score_dataset(x_train, x_test, y_train, y_test):\n",
    "    model = RandomForestRegressor()\n",
    "    model.fit(x_train, y_train)\n",
    "    pred = model.predict(x_test)\n",
    "    return mean_absolute_error(y_test, pred)"
   ]
  },
  {
   "cell_type": "markdown",
   "metadata": {},
   "source": [
    "##  Get Model Score from Dropping Columns with Missing Values"
   ]
  },
  {
   "cell_type": "code",
   "execution_count": 24,
   "metadata": {},
   "outputs": [
    {
     "name": "stdout",
     "output_type": "stream",
     "text": [
      "Mean Absolute Error from dropping columns with Missing Values:\n",
      "191928.72203286813\n"
     ]
    }
   ],
   "source": [
    "col_with_missings = [col for col in only_numeric_predictors.columns if predictors[col].isnull().any()]\n",
    "\n",
    "reduced_x_train = X_train.drop(col_with_missings, axis=1)\n",
    "reduced_x_test = X_test.drop(col_with_missings, axis=1)\n",
    "\n",
    "print(\"Mean Absolute Error from dropping columns with Missing Values:\")\n",
    "print(score_dataset(reduced_x_train, reduced_x_test, Y_train, Y_test))"
   ]
  },
  {
   "cell_type": "markdown",
   "metadata": {},
   "source": [
    "##  Get Model Score from Imputation"
   ]
  },
  {
   "cell_type": "code",
   "execution_count": 27,
   "metadata": {},
   "outputs": [
    {
     "name": "stdout",
     "output_type": "stream",
     "text": [
      "Mean Absolute Error from Imputation:\n",
      "194837.63279332352\n"
     ]
    }
   ],
   "source": [
    "from sklearn.preprocessing import Imputer\n",
    "imputer = Imputer()\n",
    "imputed_x_train = imputer.fit_transform(X_train)\n",
    "imputed_x_test = imputer.fit_transform(X_test)\n",
    "\n",
    "print(\"Mean Absolute Error from Imputation:\")\n",
    "print(score_dataset(imputed_x_train, imputed_x_test, Y_train, Y_test))"
   ]
  },
  {
   "cell_type": "markdown",
   "metadata": {},
   "source": [
    "## Get Score from Imputation with Extra Columns Showing What Was Imputed"
   ]
  },
  {
   "cell_type": "code",
   "execution_count": 36,
   "metadata": {},
   "outputs": [
    {
     "name": "stdout",
     "output_type": "stream",
     "text": [
      "Mean Absolute Error from Imputation while Track What Was Imputed:\n",
      "192147.56810669287\n"
     ]
    }
   ],
   "source": [
    "imputed_x_train_plus = X_train.copy()\n",
    "imputed_x_test_plus = X_test.copy()\n",
    "\n",
    "col_with_misssing = (col for col in only_numeric_predictors.columns if only_numeric_predictors[col].isnull().any())\n",
    "for col in col_with_missings:\n",
    "    imputed_x_train_plus[col+'_was_missing'] = X_train[col].isnull()\n",
    "    imputed_x_test_plus[col+'_was_missing'] = X_test[col].isnull()    \n",
    "    \n",
    "imputer = Imputer()\n",
    "imputed_x_train_plus = imputer.fit_transform(imputed_x_train_plus)\n",
    "imputed_x_test_plus = imputer.fit_transform(imputed_x_test_plus)\n",
    "\n",
    "print(\"Mean Absolute Error from Imputation while Track What Was Imputed:\")\n",
    "print(score_dataset(imputed_x_train_plus, imputed_x_test_plus, Y_train, Y_test))"
   ]
  },
  {
   "cell_type": "code",
   "execution_count": null,
   "metadata": {},
   "outputs": [],
   "source": []
  },
  {
   "cell_type": "code",
   "execution_count": null,
   "metadata": {},
   "outputs": [],
   "source": []
  },
  {
   "cell_type": "code",
   "execution_count": null,
   "metadata": {},
   "outputs": [],
   "source": []
  },
  {
   "cell_type": "code",
   "execution_count": null,
   "metadata": {},
   "outputs": [],
   "source": []
  },
  {
   "cell_type": "code",
   "execution_count": null,
   "metadata": {},
   "outputs": [],
   "source": []
  },
  {
   "cell_type": "code",
   "execution_count": null,
   "metadata": {},
   "outputs": [],
   "source": []
  },
  {
   "cell_type": "code",
   "execution_count": null,
   "metadata": {},
   "outputs": [],
   "source": []
  },
  {
   "cell_type": "code",
   "execution_count": null,
   "metadata": {},
   "outputs": [],
   "source": []
  },
  {
   "cell_type": "code",
   "execution_count": null,
   "metadata": {},
   "outputs": [],
   "source": []
  },
  {
   "cell_type": "code",
   "execution_count": null,
   "metadata": {},
   "outputs": [],
   "source": []
  },
  {
   "cell_type": "code",
   "execution_count": null,
   "metadata": {},
   "outputs": [],
   "source": []
  },
  {
   "cell_type": "code",
   "execution_count": null,
   "metadata": {},
   "outputs": [],
   "source": []
  },
  {
   "cell_type": "code",
   "execution_count": null,
   "metadata": {},
   "outputs": [],
   "source": []
  },
  {
   "cell_type": "code",
   "execution_count": null,
   "metadata": {},
   "outputs": [],
   "source": []
  },
  {
   "cell_type": "code",
   "execution_count": null,
   "metadata": {},
   "outputs": [],
   "source": []
  },
  {
   "cell_type": "code",
   "execution_count": null,
   "metadata": {},
   "outputs": [],
   "source": []
  },
  {
   "cell_type": "code",
   "execution_count": null,
   "metadata": {},
   "outputs": [],
   "source": []
  },
  {
   "cell_type": "code",
   "execution_count": null,
   "metadata": {},
   "outputs": [],
   "source": []
  },
  {
   "cell_type": "code",
   "execution_count": null,
   "metadata": {},
   "outputs": [],
   "source": []
  },
  {
   "cell_type": "code",
   "execution_count": null,
   "metadata": {},
   "outputs": [],
   "source": []
  },
  {
   "cell_type": "code",
   "execution_count": null,
   "metadata": {},
   "outputs": [],
   "source": []
  },
  {
   "cell_type": "markdown",
   "metadata": {},
   "source": [
    "### Learning/Take aways\n",
    "One (of many) nice things about Imputation is that it can be included in a scikit-learn Pipeline. ___Pipelines simplify model building, model validation and model deployment.___"
   ]
  },
  {
   "cell_type": "code",
   "execution_count": null,
   "metadata": {},
   "outputs": [],
   "source": []
  }
 ],
 "metadata": {
  "kernelspec": {
   "display_name": "Python 3",
   "language": "python",
   "name": "python3"
  },
  "language_info": {
   "codemirror_mode": {
    "name": "ipython",
    "version": 3
   },
   "file_extension": ".py",
   "mimetype": "text/x-python",
   "name": "python",
   "nbconvert_exporter": "python",
   "pygments_lexer": "ipython3",
   "version": "3.6.5"
  }
 },
 "nbformat": 4,
 "nbformat_minor": 2
}
