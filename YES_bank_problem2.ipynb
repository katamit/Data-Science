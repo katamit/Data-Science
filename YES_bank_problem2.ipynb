{
 "cells": [
  {
   "cell_type": "code",
   "execution_count": 252,
   "metadata": {},
   "outputs": [],
   "source": [
    "\n",
    "import pandas as pd\n",
    "import numpy as np\n",
    "# pd.set_option()\n",
    "import matplotlib.pyplot as plt\n",
    "\n",
    "\n",
    "pd.set_option('display.max_columns',50)\n",
    "\n",
    "train = pd.read_csv('./Data/Yes_ml2_train.csv')\n",
    "\n",
    "# print(train.shape,'\\n')\n",
    "# print(train.info(),'\\n')\n",
    "# print(train.describe().T,'\\n')\n",
    "# print(train.head(20),'\\n')\n",
    "# print(train.tail(20),'\\n')"
   ]
  },
  {
   "cell_type": "code",
   "execution_count": 254,
   "metadata": {},
   "outputs": [],
   "source": [
    "# np.log?\n",
    "train = train[['Serial Number','2012 Deposits', '2013 Deposits', '2014 Deposits',\n",
    "       '2015 Deposits', '2016 Deposits']]"
   ]
  },
  {
   "cell_type": "code",
   "execution_count": 264,
   "metadata": {},
   "outputs": [],
   "source": [
    "# train= train.replace(0,np.nan)\n",
    "train=train.dropna()\n",
    "# df=df.replace(nan,0)"
   ]
  },
  {
   "cell_type": "code",
   "execution_count": 265,
   "metadata": {},
   "outputs": [
    {
     "data": {
      "text/plain": [
       "Serial Number    0\n",
       "2012 Deposits    0\n",
       "2013 Deposits    0\n",
       "2014 Deposits    0\n",
       "2015 Deposits    0\n",
       "2016 Deposits    0\n",
       "dtype: int64"
      ]
     },
     "execution_count": 265,
     "metadata": {},
     "output_type": "execute_result"
    }
   ],
   "source": [
    "train.isnull().sum()"
   ]
  },
  {
   "cell_type": "code",
   "execution_count": 106,
   "metadata": {},
   "outputs": [
    {
     "data": {
      "text/html": [
       "<div>\n",
       "<style scoped>\n",
       "    .dataframe tbody tr th:only-of-type {\n",
       "        vertical-align: middle;\n",
       "    }\n",
       "\n",
       "    .dataframe tbody tr th {\n",
       "        vertical-align: top;\n",
       "    }\n",
       "\n",
       "    .dataframe thead th {\n",
       "        text-align: right;\n",
       "    }\n",
       "</style>\n",
       "<table border=\"1\" class=\"dataframe\">\n",
       "  <thead>\n",
       "    <tr style=\"text-align: right;\">\n",
       "      <th></th>\n",
       "      <th>count</th>\n",
       "      <th>mean</th>\n",
       "      <th>std</th>\n",
       "      <th>min</th>\n",
       "      <th>25%</th>\n",
       "      <th>50%</th>\n",
       "      <th>75%</th>\n",
       "      <th>max</th>\n",
       "    </tr>\n",
       "  </thead>\n",
       "  <tbody>\n",
       "    <tr>\n",
       "      <th>Serial Number</th>\n",
       "      <td>3790.0</td>\n",
       "      <td>1.895500e+03</td>\n",
       "      <td>1.094223e+03</td>\n",
       "      <td>1.000000</td>\n",
       "      <td>948.250000</td>\n",
       "      <td>1895.500000</td>\n",
       "      <td>2842.750000</td>\n",
       "      <td>3.790000e+03</td>\n",
       "    </tr>\n",
       "    <tr>\n",
       "      <th>Main Office</th>\n",
       "      <td>3790.0</td>\n",
       "      <td>0.000000e+00</td>\n",
       "      <td>0.000000e+00</td>\n",
       "      <td>0.000000</td>\n",
       "      <td>0.000000</td>\n",
       "      <td>0.000000</td>\n",
       "      <td>0.000000</td>\n",
       "      <td>0.000000e+00</td>\n",
       "    </tr>\n",
       "    <tr>\n",
       "      <th>Branch Number</th>\n",
       "      <td>3790.0</td>\n",
       "      <td>5.390806e+03</td>\n",
       "      <td>1.549105e+03</td>\n",
       "      <td>2866.000000</td>\n",
       "      <td>4062.250000</td>\n",
       "      <td>5256.500000</td>\n",
       "      <td>6858.250000</td>\n",
       "      <td>7.989000e+03</td>\n",
       "    </tr>\n",
       "    <tr>\n",
       "      <th>2010 Deposits</th>\n",
       "      <td>3050.0</td>\n",
       "      <td>1.122134e+05</td>\n",
       "      <td>2.797591e+06</td>\n",
       "      <td>0.000000</td>\n",
       "      <td>18932.000000</td>\n",
       "      <td>35628.000000</td>\n",
       "      <td>66072.750000</td>\n",
       "      <td>1.535773e+08</td>\n",
       "    </tr>\n",
       "    <tr>\n",
       "      <th>2011 Deposits</th>\n",
       "      <td>3212.0</td>\n",
       "      <td>1.255136e+05</td>\n",
       "      <td>3.447382e+06</td>\n",
       "      <td>0.000000</td>\n",
       "      <td>20132.750000</td>\n",
       "      <td>37183.000000</td>\n",
       "      <td>66947.000000</td>\n",
       "      <td>1.943880e+08</td>\n",
       "    </tr>\n",
       "    <tr>\n",
       "      <th>2012 Deposits</th>\n",
       "      <td>3461.0</td>\n",
       "      <td>1.289202e+05</td>\n",
       "      <td>3.547146e+06</td>\n",
       "      <td>0.000000</td>\n",
       "      <td>21065.000000</td>\n",
       "      <td>39744.000000</td>\n",
       "      <td>71496.000000</td>\n",
       "      <td>2.073680e+08</td>\n",
       "    </tr>\n",
       "    <tr>\n",
       "      <th>2013 Deposits</th>\n",
       "      <td>3615.0</td>\n",
       "      <td>1.363828e+05</td>\n",
       "      <td>3.740357e+06</td>\n",
       "      <td>0.000000</td>\n",
       "      <td>23314.500000</td>\n",
       "      <td>42358.000000</td>\n",
       "      <td>76352.500000</td>\n",
       "      <td>2.233954e+08</td>\n",
       "    </tr>\n",
       "    <tr>\n",
       "      <th>2014 Deposits</th>\n",
       "      <td>3734.0</td>\n",
       "      <td>1.455916e+05</td>\n",
       "      <td>3.980277e+06</td>\n",
       "      <td>0.000000</td>\n",
       "      <td>26239.000000</td>\n",
       "      <td>46772.000000</td>\n",
       "      <td>83296.500000</td>\n",
       "      <td>2.415406e+08</td>\n",
       "    </tr>\n",
       "    <tr>\n",
       "      <th>2015 Deposits</th>\n",
       "      <td>3771.0</td>\n",
       "      <td>1.576281e+05</td>\n",
       "      <td>4.281414e+06</td>\n",
       "      <td>0.000000</td>\n",
       "      <td>30881.000000</td>\n",
       "      <td>52516.000000</td>\n",
       "      <td>91566.000000</td>\n",
       "      <td>2.612928e+08</td>\n",
       "    </tr>\n",
       "    <tr>\n",
       "      <th>2016 Deposits</th>\n",
       "      <td>3790.0</td>\n",
       "      <td>1.832558e+05</td>\n",
       "      <td>5.116119e+06</td>\n",
       "      <td>0.000000</td>\n",
       "      <td>37091.500000</td>\n",
       "      <td>60753.000000</td>\n",
       "      <td>104378.250000</td>\n",
       "      <td>3.136869e+08</td>\n",
       "    </tr>\n",
       "    <tr>\n",
       "      <th>log_2015</th>\n",
       "      <td>3771.0</td>\n",
       "      <td>-inf</td>\n",
       "      <td>NaN</td>\n",
       "      <td>-inf</td>\n",
       "      <td>10.337896</td>\n",
       "      <td>10.868873</td>\n",
       "      <td>11.424815</td>\n",
       "      <td>1.938115e+01</td>\n",
       "    </tr>\n",
       "    <tr>\n",
       "      <th>log_2014</th>\n",
       "      <td>3734.0</td>\n",
       "      <td>-inf</td>\n",
       "      <td>NaN</td>\n",
       "      <td>-inf</td>\n",
       "      <td>10.175002</td>\n",
       "      <td>10.753040</td>\n",
       "      <td>11.330162</td>\n",
       "      <td>1.930255e+01</td>\n",
       "    </tr>\n",
       "    <tr>\n",
       "      <th>log_2010</th>\n",
       "      <td>3050.0</td>\n",
       "      <td>-inf</td>\n",
       "      <td>NaN</td>\n",
       "      <td>-inf</td>\n",
       "      <td>9.848609</td>\n",
       "      <td>10.480887</td>\n",
       "      <td>11.098511</td>\n",
       "      <td>1.884971e+01</td>\n",
       "    </tr>\n",
       "    <tr>\n",
       "      <th>log_2011</th>\n",
       "      <td>3212.0</td>\n",
       "      <td>-inf</td>\n",
       "      <td>NaN</td>\n",
       "      <td>-inf</td>\n",
       "      <td>9.910103</td>\n",
       "      <td>10.523606</td>\n",
       "      <td>11.111656</td>\n",
       "      <td>1.908537e+01</td>\n",
       "    </tr>\n",
       "    <tr>\n",
       "      <th>log_2012</th>\n",
       "      <td>3461.0</td>\n",
       "      <td>-inf</td>\n",
       "      <td>NaN</td>\n",
       "      <td>-inf</td>\n",
       "      <td>9.955368</td>\n",
       "      <td>10.590214</td>\n",
       "      <td>11.177397</td>\n",
       "      <td>1.915001e+01</td>\n",
       "    </tr>\n",
       "    <tr>\n",
       "      <th>log_2013</th>\n",
       "      <td>3615.0</td>\n",
       "      <td>-inf</td>\n",
       "      <td>NaN</td>\n",
       "      <td>-inf</td>\n",
       "      <td>10.056830</td>\n",
       "      <td>10.653913</td>\n",
       "      <td>11.243116</td>\n",
       "      <td>1.922445e+01</td>\n",
       "    </tr>\n",
       "  </tbody>\n",
       "</table>\n",
       "</div>"
      ],
      "text/plain": [
       "                count          mean           std          min           25%  \\\n",
       "Serial Number  3790.0  1.895500e+03  1.094223e+03     1.000000    948.250000   \n",
       "Main Office    3790.0  0.000000e+00  0.000000e+00     0.000000      0.000000   \n",
       "Branch Number  3790.0  5.390806e+03  1.549105e+03  2866.000000   4062.250000   \n",
       "2010 Deposits  3050.0  1.122134e+05  2.797591e+06     0.000000  18932.000000   \n",
       "2011 Deposits  3212.0  1.255136e+05  3.447382e+06     0.000000  20132.750000   \n",
       "2012 Deposits  3461.0  1.289202e+05  3.547146e+06     0.000000  21065.000000   \n",
       "2013 Deposits  3615.0  1.363828e+05  3.740357e+06     0.000000  23314.500000   \n",
       "2014 Deposits  3734.0  1.455916e+05  3.980277e+06     0.000000  26239.000000   \n",
       "2015 Deposits  3771.0  1.576281e+05  4.281414e+06     0.000000  30881.000000   \n",
       "2016 Deposits  3790.0  1.832558e+05  5.116119e+06     0.000000  37091.500000   \n",
       "log_2015       3771.0          -inf           NaN         -inf     10.337896   \n",
       "log_2014       3734.0          -inf           NaN         -inf     10.175002   \n",
       "log_2010       3050.0          -inf           NaN         -inf      9.848609   \n",
       "log_2011       3212.0          -inf           NaN         -inf      9.910103   \n",
       "log_2012       3461.0          -inf           NaN         -inf      9.955368   \n",
       "log_2013       3615.0          -inf           NaN         -inf     10.056830   \n",
       "\n",
       "                        50%            75%           max  \n",
       "Serial Number   1895.500000    2842.750000  3.790000e+03  \n",
       "Main Office        0.000000       0.000000  0.000000e+00  \n",
       "Branch Number   5256.500000    6858.250000  7.989000e+03  \n",
       "2010 Deposits  35628.000000   66072.750000  1.535773e+08  \n",
       "2011 Deposits  37183.000000   66947.000000  1.943880e+08  \n",
       "2012 Deposits  39744.000000   71496.000000  2.073680e+08  \n",
       "2013 Deposits  42358.000000   76352.500000  2.233954e+08  \n",
       "2014 Deposits  46772.000000   83296.500000  2.415406e+08  \n",
       "2015 Deposits  52516.000000   91566.000000  2.612928e+08  \n",
       "2016 Deposits  60753.000000  104378.250000  3.136869e+08  \n",
       "log_2015          10.868873      11.424815  1.938115e+01  \n",
       "log_2014          10.753040      11.330162  1.930255e+01  \n",
       "log_2010          10.480887      11.098511  1.884971e+01  \n",
       "log_2011          10.523606      11.111656  1.908537e+01  \n",
       "log_2012          10.590214      11.177397  1.915001e+01  \n",
       "log_2013          10.653913      11.243116  1.922445e+01  "
      ]
     },
     "execution_count": 106,
     "metadata": {},
     "output_type": "execute_result"
    }
   ],
   "source": [
    "train.describe().T\n"
   ]
  },
  {
   "cell_type": "code",
   "execution_count": 111,
   "metadata": {},
   "outputs": [
    {
     "data": {
      "text/plain": [
       "count    3050.000000\n",
       "mean            -inf\n",
       "std              NaN\n",
       "min             -inf\n",
       "25%         9.848609\n",
       "50%        10.480887\n",
       "75%        11.098511\n",
       "max        18.849715\n",
       "Name: 2010 Deposits, dtype: float64"
      ]
     },
     "execution_count": 111,
     "metadata": {},
     "output_type": "execute_result"
    }
   ],
   "source": [
    "# temp_2010 = np.log(train[train['2010 Deposits'].notnull()]['2010 Deposits'])\n",
    "# type(temp_2010)\n",
    "temp_2010.describe()"
   ]
  },
  {
   "cell_type": "code",
   "execution_count": 115,
   "metadata": {},
   "outputs": [
    {
     "data": {
      "text/plain": [
       "Serial Number          0\n",
       "Main Office            0\n",
       "Branch Number          0\n",
       "Established Date       0\n",
       "Acquired Date       1493\n",
       "City                   0\n",
       "County                 0\n",
       "State                  0\n",
       "2010 Deposits        740\n",
       "2011 Deposits        578\n",
       "2012 Deposits        329\n",
       "2013 Deposits        175\n",
       "2014 Deposits         56\n",
       "2015 Deposits         19\n",
       "2016 Deposits          0\n",
       "log_2015               0\n",
       "log_2014               0\n",
       "log_2010               0\n",
       "log_2011               0\n",
       "log_2012               0\n",
       "log_2013               0\n",
       "dtype: int64"
      ]
     },
     "execution_count": 115,
     "metadata": {},
     "output_type": "execute_result"
    }
   ],
   "source": [
    "train.isnull().sum()"
   ]
  },
  {
   "cell_type": "markdown",
   "metadata": {},
   "source": [
    "###  Understadning the distributions and performing Transformations"
   ]
  },
  {
   "cell_type": "code",
   "execution_count": 10,
   "metadata": {},
   "outputs": [
    {
     "data": {
      "text/plain": [
       "2027"
      ]
     },
     "execution_count": 10,
     "metadata": {},
     "output_type": "execute_result"
    }
   ],
   "source": [
    "len(train['Established Date'].unique())"
   ]
  },
  {
   "cell_type": "code",
   "execution_count": 11,
   "metadata": {},
   "outputs": [],
   "source": [
    "import seaborn as sns\n"
   ]
  },
  {
   "cell_type": "code",
   "execution_count": 49,
   "metadata": {},
   "outputs": [
    {
     "name": "stderr",
     "output_type": "stream",
     "text": [
      "C:\\Users\\amitkumar_kataria\\AppData\\Local\\Continuum\\anaconda3\\lib\\site-packages\\ipykernel_launcher.py:2: RuntimeWarning: divide by zero encountered in log\n",
      "  \n"
     ]
    },
    {
     "data": {
      "text/plain": [
       "count    3734.000000\n",
       "mean            -inf\n",
       "std              NaN\n",
       "min             -inf\n",
       "25%        10.175002\n",
       "50%        10.753040\n",
       "75%        11.330162\n",
       "max        19.302548\n",
       "Name: log_2014, dtype: float64"
      ]
     },
     "execution_count": 49,
     "metadata": {},
     "output_type": "execute_result"
    }
   ],
   "source": [
    "\n",
    "train['log_2014'] = np.log(train['2014 Deposits'])\n",
    "train[train['log_2014'].notnull()]['log_2014'].describe()\n",
    "# train['log_2015'].isnull().sum()"
   ]
  },
  {
   "cell_type": "code",
   "execution_count": 50,
   "metadata": {},
   "outputs": [
    {
     "data": {
      "text/plain": [
       "count    3790.000000\n",
       "mean            -inf\n",
       "std              NaN\n",
       "min             -inf\n",
       "25%        10.185456\n",
       "50%        10.753040\n",
       "75%        11.324147\n",
       "max        19.302548\n",
       "Name: log_2014, dtype: float64"
      ]
     },
     "execution_count": 50,
     "metadata": {},
     "output_type": "execute_result"
    }
   ],
   "source": [
    "from sklearn.preprocessing import Imputer\n",
    "median_imputer = Imputer(strategy='median')\n",
    "train['log_2014']  = median_imputer.fit_transform(train[['log_2014']]).ravel()\n",
    "# train['log_2015'].impute('mean')\n",
    "train['log_2014'].describe()"
   ]
  },
  {
   "cell_type": "code",
   "execution_count": 224,
   "metadata": {},
   "outputs": [
    {
     "name": "stderr",
     "output_type": "stream",
     "text": [
      "C:\\Users\\amitkumar_kataria\\AppData\\Local\\Continuum\\anaconda3\\lib\\site-packages\\ipykernel_launcher.py:1: RuntimeWarning: divide by zero encountered in log\n",
      "  \"\"\"Entry point for launching an IPython kernel.\n"
     ]
    },
    {
     "data": {
      "text/plain": [
       "<matplotlib.axes._subplots.AxesSubplot at 0x2a52d457860>"
      ]
     },
     "execution_count": 224,
     "metadata": {},
     "output_type": "execute_result"
    },
    {
     "data": {
      "image/png": "[encoded data removed]",
      "text/plain": [
       "<Figure size 432x288 with 1 Axes>"
      ]
     },
     "metadata": {},
     "output_type": "display_data"
    }
   ],
   "source": [
    "sns.boxplot(y= np.log(train['2015 Deposits']))"
   ]
  },
  {
   "cell_type": "code",
   "execution_count": 48,
   "metadata": {},
   "outputs": [
    {
     "name": "stderr",
     "output_type": "stream",
     "text": [
      "C:\\Users\\amitkumar_kataria\\AppData\\Local\\Continuum\\anaconda3\\lib\\site-packages\\ipykernel_launcher.py:1: RuntimeWarning: divide by zero encountered in log\n",
      "  \"\"\"Entry point for launching an IPython kernel.\n"
     ]
    },
    {
     "data": {
      "text/plain": [
       "<matplotlib.axes._subplots.AxesSubplot at 0x2a527432320>"
      ]
     },
     "execution_count": 48,
     "metadata": {},
     "output_type": "execute_result"
    },
    {
     "data": {
      "image/png": "[encoded data removed]",
      "text/plain": [
       "<Figure size 432x288 with 1 Axes>"
      ]
     },
     "metadata": {},
     "output_type": "display_data"
    }
   ],
   "source": [
    "sns.boxplot(y= np.log(train['2014 Deposits']))"
   ]
  },
  {
   "cell_type": "code",
   "execution_count": 225,
   "metadata": {},
   "outputs": [
    {
     "name": "stderr",
     "output_type": "stream",
     "text": [
      "C:\\Users\\amitkumar_kataria\\AppData\\Local\\Continuum\\anaconda3\\lib\\site-packages\\ipykernel_launcher.py:1: RuntimeWarning: divide by zero encountered in log\n",
      "  \"\"\"Entry point for launching an IPython kernel.\n"
     ]
    },
    {
     "data": {
      "text/plain": [
       "<matplotlib.axes._subplots.AxesSubplot at 0x2a52dd64a20>"
      ]
     },
     "execution_count": 225,
     "metadata": {},
     "output_type": "execute_result"
    },
    {
     "data": {
      "image/png": "[encoded data removed]",
      "text/plain": [
       "<Figure size 432x288 with 1 Axes>"
      ]
     },
     "metadata": {},
     "output_type": "display_data"
    }
   ],
   "source": [
    "sns.boxplot(y= np.log(train['2013 Deposits']))"
   ]
  },
  {
   "cell_type": "code",
   "execution_count": 226,
   "metadata": {},
   "outputs": [
    {
     "name": "stderr",
     "output_type": "stream",
     "text": [
      "C:\\Users\\amitkumar_kataria\\AppData\\Local\\Continuum\\anaconda3\\lib\\site-packages\\ipykernel_launcher.py:1: RuntimeWarning: divide by zero encountered in log\n",
      "  \"\"\"Entry point for launching an IPython kernel.\n"
     ]
    },
    {
     "data": {
      "text/plain": [
       "<matplotlib.axes._subplots.AxesSubplot at 0x2a52c100a20>"
      ]
     },
     "execution_count": 226,
     "metadata": {},
     "output_type": "execute_result"
    },
    {
     "data": {
      "image/png": "[encoded data removed]",
      "text/plain": [
       "<Figure size 432x288 with 1 Axes>"
      ]
     },
     "metadata": {},
     "output_type": "display_data"
    }
   ],
   "source": [
    "sns.boxplot(y= np.log(train['2012 Deposits']))"
   ]
  },
  {
   "cell_type": "code",
   "execution_count": 51,
   "metadata": {},
   "outputs": [
    {
     "data": {
      "text/plain": [
       "<matplotlib.axes._subplots.AxesSubplot at 0x2a5274c6080>"
      ]
     },
     "execution_count": 51,
     "metadata": {},
     "output_type": "execute_result"
    },
    {
     "data": {
      "image/png": "[encoded data removed]",
      "text/plain": [
       "<Figure size 432x288 with 1 Axes>"
      ]
     },
     "metadata": {},
     "output_type": "display_data"
    }
   ],
   "source": [
    "# sns.distplot(np.log(train[train['2015 Deposits'].notnull()]['2015 Deposits']),hist=False)\n",
    "sns.distplot(train['log_2014'],hist=False)\n",
    "# sns.distplot(train['2014 Deposits'],hist=False)\n",
    "# sns.distplot(train['2015 Deposits'])#,hist=False)"
   ]
  },
  {
   "cell_type": "code",
   "execution_count": 60,
   "metadata": {},
   "outputs": [],
   "source": [
    "# plt.hist(train['log_2014'])"
   ]
  },
  {
   "cell_type": "code",
   "execution_count": 53,
   "metadata": {},
   "outputs": [
    {
     "data": {
      "image/png": "[encoded data removed]",
      "text/plain": [
       "<Figure size 432x288 with 1 Axes>"
      ]
     },
     "metadata": {},
     "output_type": "display_data"
    }
   ],
   "source": [
    "fig = plt.figure()\n",
    "fig.subplots_adjust(hspace=0.4, wspace=0.4)\n",
    "for i in range(1, 7):\n",
    "    ax = fig.add_subplot(sns.distplot(train['log_2014'],hist=False),2, 3, i)\n",
    "#     ax.text(0.5, 0.5, str((2, 3, i)),\n",
    "#            fontsize=18, ha='center')"
   ]
  },
  {
   "cell_type": "code",
   "execution_count": 116,
   "metadata": {},
   "outputs": [
    {
     "data": {
      "text/plain": [
       "Index(['Serial Number', 'Main Office', 'Branch Number', 'Established Date',\n",
       "       'Acquired Date', 'City', 'County', 'State', '2010 Deposits',\n",
       "       '2011 Deposits', '2012 Deposits', '2013 Deposits', '2014 Deposits',\n",
       "       '2015 Deposits', '2016 Deposits', 'log_2015', 'log_2014', 'log_2010',\n",
       "       'log_2011', 'log_2012', 'log_2013'],\n",
       "      dtype='object')"
      ]
     },
     "execution_count": 116,
     "metadata": {},
     "output_type": "execute_result"
    }
   ],
   "source": [
    "train.columns\n"
   ]
  },
  {
   "cell_type": "code",
   "execution_count": 96,
   "metadata": {},
   "outputs": [
    {
     "name": "stderr",
     "output_type": "stream",
     "text": [
      "C:\\Users\\amitkumar_kataria\\AppData\\Local\\Continuum\\anaconda3\\lib\\site-packages\\statsmodels\\nonparametric\\kde.py:448: RuntimeWarning: invalid value encountered in greater\n",
      "  X = X[np.logical_and(X > clip[0], X < clip[1])] # won't work for two columns.\n",
      "C:\\Users\\amitkumar_kataria\\AppData\\Local\\Continuum\\anaconda3\\lib\\site-packages\\statsmodels\\nonparametric\\kde.py:448: RuntimeWarning: invalid value encountered in less\n",
      "  X = X[np.logical_and(X > clip[0], X < clip[1])] # won't work for two columns.\n"
     ]
    },
    {
     "data": {
      "image/png": "[encoded data removed]",
      "text/plain": [
       "<Figure size 864x1152 with 7 Axes>"
      ]
     },
     "metadata": {},
     "output_type": "display_data"
    }
   ],
   "source": [
    "deposits = ['2010 Deposits',\n",
    "       '2011 Deposits', '2012 Deposits', '2013 Deposits', '2014 Deposits',\n",
    "       '2015 Deposits', '2016 Deposits']\n",
    "plt.figure(figsize=(12,16))\n",
    "for i, deposit in enumerate(deposits):\n",
    "    ax = plt.subplot(4, 2, i + 1)\n",
    "    \n",
    "    # Draw the density plot\n",
    "    sns.distplot(train[deposit], hist = False, kde = True,\n",
    "                 kde_kws = {'linewidth': 3},\n",
    "                 label = deposit)\n",
    "    \n",
    "# Plot formatting\n",
    "# plt.legend(prop={'size': 8}, title = 'Deposits')\n",
    "# plt.title('Density Plot with Multiple Airlines')\n",
    "# plt.xlabel('Deposit Values')\n",
    "# plt.ylabel('Density')"
   ]
  },
  {
   "cell_type": "code",
   "execution_count": 269,
   "metadata": {},
   "outputs": [
    {
     "data": {
      "image/png": "[encoded data removed]",
      "text/plain": [
       "<Figure size 1080x1872 with 12 Axes>"
      ]
     },
     "metadata": {},
     "output_type": "display_data"
    }
   ],
   "source": [
    "deposits = ['2012 Deposits', '2013 Deposits', '2014 Deposits',\n",
    "       '2015 Deposits']\n",
    "mean_imputer = Imputer()\n",
    "plt.figure(figsize=(15,26))\n",
    "for i, deposit in enumerate(deposits):\n",
    "    year, _ = deposit.split()\n",
    "    mean_imputed = mean_imputer.fit_transform(train[[deposit]]).ravel()\n",
    "    med_imputed = median_imputer.fit_transform(train[[deposit]]).ravel()\n",
    "\n",
    "    \n",
    "\n",
    "    \n",
    "    train['log_'+year] = np.log(train[deposit])\n",
    "    ax = plt.subplot(6, 3, 3*i + 1)\n",
    "    \n",
    "    # Draw the density plot\n",
    "    sns.distplot(train['log_'+year], hist = False, kde = True,\n",
    "                 kde_kws = {'linewidth': 3},\n",
    "                 label = 'log_'+year)\n",
    "    \n",
    "    ax = plt.subplot(6, 3, 3*i + 2)\n",
    "\n",
    "#     train['log_'+year]  mean_imputed\n",
    "#     mean_imputed = mean_imputer.fit_transform(train[['log_'+year]]).ravel()\n",
    "    train['log_'+year] = np.log(mean_imputed)\n",
    "    sns.distplot(train['log_'+year] , hist = False, kde = True,\n",
    "                 kde_kws = {'linewidth': 3},\n",
    "                 label = 'mean_log_'+year)\n",
    "\n",
    "    \n",
    "    ax = plt.subplot(6, 3, 3*i + 3)\n",
    "\n",
    "#     train['log_'+year]\n",
    "#     med_imputed = median_imputer.fit_transform(train[['log_'+year]]).ravel()\n",
    "    med_imputed = np.log(med_imputed)\n",
    "    sns.distplot(med_imputed , hist = False, kde = True,\n",
    "                 kde_kws = {'linewidth': 3},\n",
    "                 label = 'med_log_'+year)\n",
    "    \n",
    "    \n",
    "    \n",
    "#     ax = plt.subplot(6, 2, 2*i + 2)\n",
    "#     sns.boxplot(y= train['log_'+year])#,ylabel = deposit)\n",
    "    \n",
    "    \n",
    "# Plot formatting\n",
    "# plt.legend(prop={'size': 8}, title = 'Deposits')\n",
    "    \n",
    "\n",
    "    \n",
    "\n",
    "# train['log_2014'] = np.log(train['2014 Deposits'])\n",
    "# train[train['log_2014'].notnull()]['log_2014'].describe()"
   ]
  },
  {
   "cell_type": "code",
   "execution_count": 232,
   "metadata": {},
   "outputs": [],
   "source": [
    "deposits = ['2010 Deposits']\n",
    "# ,\n",
    "#        '2011 Deposits', '2012 Deposits', '2013 Deposits', '2014 Deposits',\n",
    "#        '2015 Deposits']\n",
    "\n",
    "for deposit in deposits:\n",
    "    train[deposit] = train[deposit].where(train[deposit] <=0, 1)\n",
    "# train.where(train[])"
   ]
  },
  {
   "cell_type": "code",
   "execution_count": 239,
   "metadata": {},
   "outputs": [],
   "source": [
    "train['2010 Deposits'] = train['2010 Deposits'].replace(0,1)"
   ]
  },
  {
   "cell_type": "code",
   "execution_count": 241,
   "metadata": {},
   "outputs": [],
   "source": [
    "train['log_2010'] = np.log(train['2010 Deposits'])"
   ]
  },
  {
   "cell_type": "code",
   "execution_count": 242,
   "metadata": {},
   "outputs": [
    {
     "data": {
      "text/plain": [
       "count    3790.0\n",
       "mean        0.0\n",
       "std         0.0\n",
       "min         0.0\n",
       "25%         0.0\n",
       "50%         0.0\n",
       "75%         0.0\n",
       "max         0.0\n",
       "Name: log_2010, dtype: float64"
      ]
     },
     "execution_count": 242,
     "metadata": {},
     "output_type": "execute_result"
    }
   ],
   "source": [
    "train['log_2010'].describe()"
   ]
  },
  {
   "cell_type": "code",
   "execution_count": 268,
   "metadata": {},
   "outputs": [
    {
     "data": {
      "text/plain": [
       "Serial Number    0\n",
       "2012 Deposits    0\n",
       "2013 Deposits    0\n",
       "2014 Deposits    0\n",
       "2015 Deposits    0\n",
       "2016 Deposits    0\n",
       "dtype: int64"
      ]
     },
     "execution_count": 268,
     "metadata": {},
     "output_type": "execute_result"
    }
   ],
   "source": [
    "# train['2012 Deposits'].apply(lambad x: x<=0)\n",
    "train[train['2012 Deposits'] <=0].count()"
   ]
  },
  {
   "cell_type": "code",
   "execution_count": 228,
   "metadata": {},
   "outputs": [
    {
     "data": {
      "text/plain": [
       "count    3461.000000\n",
       "mean            -inf\n",
       "std              NaN\n",
       "min             -inf\n",
       "25%         9.955368\n",
       "50%        10.590214\n",
       "75%        11.177397\n",
       "max        19.150005\n",
       "Name: log_2012, dtype: float64"
      ]
     },
     "execution_count": 228,
     "metadata": {},
     "output_type": "execute_result"
    }
   ],
   "source": [
    "train['log_2012'].describe()"
   ]
  },
  {
   "cell_type": "code",
   "execution_count": 291,
   "metadata": {},
   "outputs": [
    {
     "data": {
      "text/plain": [
       "<matplotlib.axes._subplots.AxesSubplot at 0x2a5365055f8>"
      ]
     },
     "execution_count": 291,
     "metadata": {},
     "output_type": "execute_result"
    },
    {
     "data": {
      "image/png": "[encoded data removed]",
      "text/plain": [
       "<Figure size 432x288 with 1 Axes>"
      ]
     },
     "metadata": {},
     "output_type": "display_data"
    }
   ],
   "source": [
    "sns.boxplot(y= train['log_2012'])"
   ]
  },
  {
   "cell_type": "code",
   "execution_count": null,
   "metadata": {},
   "outputs": [],
   "source": []
  },
  {
   "cell_type": "markdown",
   "metadata": {},
   "source": [
    "#### Outlier treatement"
   ]
  },
  {
   "cell_type": "code",
   "execution_count": 292,
   "metadata": {},
   "outputs": [
    {
     "data": {
      "text/plain": [
       "Index(['Serial Number', '2012 Deposits', '2013 Deposits', '2014 Deposits',\n",
       "       '2015 Deposits', '2016 Deposits', 'log_2012', 'log_2013', 'log_2014',\n",
       "       'log_2015'],\n",
       "      dtype='object')"
      ]
     },
     "execution_count": 292,
     "metadata": {},
     "output_type": "execute_result"
    }
   ],
   "source": [
    "train.columns"
   ]
  },
  {
   "cell_type": "code",
   "execution_count": 293,
   "metadata": {},
   "outputs": [
    {
     "data": {
      "text/plain": [
       "count    3411.000000\n",
       "mean       10.539072\n",
       "std         1.021848\n",
       "min         4.007333\n",
       "25%         9.984676\n",
       "50%        10.605272\n",
       "75%        11.186128\n",
       "max        19.150005\n",
       "Name: log_2012, dtype: float64"
      ]
     },
     "execution_count": 293,
     "metadata": {},
     "output_type": "execute_result"
    }
   ],
   "source": [
    "train['log_2012'].describe()"
   ]
  },
  {
   "cell_type": "code",
   "execution_count": 314,
   "metadata": {},
   "outputs": [
    {
     "data": {
      "text/plain": [
       "(3097, 10)"
      ]
     },
     "execution_count": 314,
     "metadata": {},
     "output_type": "execute_result"
    }
   ],
   "source": [
    "train.shape"
   ]
  },
  {
   "cell_type": "code",
   "execution_count": 305,
   "metadata": {},
   "outputs": [
    {
     "name": "stdout",
     "output_type": "stream",
     "text": [
      "1.201452522324006\n",
      "8.182496967595377\n",
      "12.9883070568914\n"
     ]
    }
   ],
   "source": [
    "iqr = train.log_2012.quantile(0.75) - train.log_2012.quantile(0.25)\n",
    "print(iqr)\n",
    "start = train.log_2012.quantile(0.25) - 1.5*iqr\n",
    "end = train.log_2012.quantile(0.75) + 1.5*iqr\n",
    "print(start)\n",
    "print(end)"
   ]
  },
  {
   "cell_type": "code",
   "execution_count": 311,
   "metadata": {},
   "outputs": [],
   "source": [
    "# train.loc[(start < train.log_2012) & (train.log_2012< end)]"
   ]
  },
  {
   "cell_type": "code",
   "execution_count": 313,
   "metadata": {},
   "outputs": [],
   "source": [
    "logs= ['log_2015', 'log_2014', 'log_2012', 'log_2013']\n",
    "\n",
    "for log in logs :\n",
    "    iqr = train[log].quantile(0.75) - train[log].quantile(0.25)\n",
    "# print(iqr)\n",
    "    start = train[log].quantile(0.25) - 1.5*iqr\n",
    "    end = train[log].quantile(0.75) + 1.5*iqr\n",
    "# print(start)\n",
    "# print(end)\n",
    "    train = train.loc[(start < train[log]) & (train[log]< end)]    "
   ]
  },
  {
   "cell_type": "code",
   "execution_count": null,
   "metadata": {},
   "outputs": [],
   "source": []
  },
  {
   "cell_type": "code",
   "execution_count": null,
   "metadata": {},
   "outputs": [],
   "source": []
  },
  {
   "cell_type": "code",
   "execution_count": null,
   "metadata": {},
   "outputs": [],
   "source": []
  },
  {
   "cell_type": "code",
   "execution_count": null,
   "metadata": {},
   "outputs": [],
   "source": []
  },
  {
   "cell_type": "code",
   "execution_count": null,
   "metadata": {},
   "outputs": [],
   "source": []
  },
  {
   "cell_type": "code",
   "execution_count": null,
   "metadata": {},
   "outputs": [],
   "source": []
  },
  {
   "cell_type": "code",
   "execution_count": null,
   "metadata": {},
   "outputs": [],
   "source": []
  },
  {
   "cell_type": "code",
   "execution_count": null,
   "metadata": {},
   "outputs": [],
   "source": []
  },
  {
   "cell_type": "code",
   "execution_count": null,
   "metadata": {},
   "outputs": [],
   "source": []
  },
  {
   "cell_type": "code",
   "execution_count": 316,
   "metadata": {},
   "outputs": [],
   "source": [
    "train_select = train[['log_2012','log_2013', 'log_2014',  'log_2015', '2016 Deposits']]\n",
    "#  ,'log_2010','log_2011', 'log_2012'"
   ]
  },
  {
   "cell_type": "code",
   "execution_count": 123,
   "metadata": {},
   "outputs": [],
   "source": [
    "from sklearn.model_selection import train_test_split\n",
    "from sklearn.metrics import mean_absolute_error, mean_squared_error"
   ]
  },
  {
   "cell_type": "code",
   "execution_count": 317,
   "metadata": {},
   "outputs": [],
   "source": [
    "target = train_select['2016 Deposits']\n",
    "predictors = train_select.drop(['2016 Deposits'],axis=1)"
   ]
  },
  {
   "cell_type": "code",
   "execution_count": 138,
   "metadata": {},
   "outputs": [
    {
     "name": "stdout",
     "output_type": "stream",
     "text": [
      "Object `lapply` not found.\n"
     ]
    }
   ],
   "source": [
    "# -np.inf\n",
    "\n",
    "# predictors.replace(-np.inf, 0, inplace=True)\n",
    "\n",
    "# predictors.count(axis=0,numeric_only=True)\n",
    "# predictors.where(lambda x: x in [np.inf, -np.inf])\n",
    "lapply?"
   ]
  },
  {
   "cell_type": "code",
   "execution_count": 193,
   "metadata": {},
   "outputs": [],
   "source": [
    "predictors = predictors.replace(-np.inf, 0.0)\n"
   ]
  },
  {
   "cell_type": "code",
   "execution_count": 184,
   "metadata": {},
   "outputs": [],
   "source": [
    "predictors = predictors.replace(-np.inf, np.nan)\n"
   ]
  },
  {
   "cell_type": "code",
   "execution_count": 318,
   "metadata": {},
   "outputs": [
    {
     "data": {
      "text/plain": [
       "log_2012    0\n",
       "log_2013    0\n",
       "log_2014    0\n",
       "log_2015    0\n",
       "dtype: int64"
      ]
     },
     "execution_count": 318,
     "metadata": {},
     "output_type": "execute_result"
    }
   ],
   "source": [
    "predictors.isnull().sum()"
   ]
  },
  {
   "cell_type": "code",
   "execution_count": 186,
   "metadata": {},
   "outputs": [],
   "source": [
    "predictors['log_2012'] = mean_imputer.fit_transform(predictors[['log_2012']]).ravel()\n",
    "predictors['log_2013'] = mean_imputer.fit_transform(predictors[['log_2013']]).ravel()\n",
    "\n",
    "predictors['log_2014'] = mean_imputer.fit_transform(predictors[['log_2014']]).ravel()\n",
    "predictors['log_2015'] = mean_imputer.fit_transform(predictors[['log_2015']]).ravel()"
   ]
  },
  {
   "cell_type": "code",
   "execution_count": 273,
   "metadata": {},
   "outputs": [],
   "source": [
    "X_train, X_test, Y_train, Y_test = train_test_split(predictors, target, train_size=0.8,test_size=0.2, random_state=7)\n"
   ]
  },
  {
   "cell_type": "code",
   "execution_count": 319,
   "metadata": {},
   "outputs": [],
   "source": [
    "from sklearn import linear_model, svm, tree, ensemble\n",
    "\n",
    "models = [\n",
    "    linear_model.LinearRegression(),\n",
    "    linear_model.Ridge(),\n",
    "    linear_model.Lasso(),\n",
    "    linear_model.ElasticNet(),\n",
    "    linear_model.BayesianRidge(),\n",
    "#     linear_model.RANSACRegressor(),\n",
    "    svm.LinearSVR(),\n",
    "    svm.SVR(),\n",
    "    tree.DecisionTreeRegressor(),\n",
    "    tree.ExtraTreeRegressor(),\n",
    "    ensemble.RandomForestRegressor(),\n",
    "    ensemble.GradientBoostingRegressor()\n",
    "\n",
    "]"
   ]
  },
  {
   "cell_type": "code",
   "execution_count": 320,
   "metadata": {},
   "outputs": [
    {
     "name": "stdout",
     "output_type": "stream",
     "text": [
      "----------------------------------------\n",
      "LinearRegression\n",
      "Root mean square error train 232611.4233854214\n",
      "Root mean square error test 11979701.253424268\n",
      "----------------------------------------\n",
      "Ridge\n",
      "Root mean square error train 232611.5839691801\n",
      "Root mean square error test 11979740.784196852\n",
      "----------------------------------------\n",
      "Lasso\n",
      "Root mean square error train 232611.42350207907\n",
      "Root mean square error test 11979702.110209186\n",
      "----------------------------------------\n",
      "ElasticNet\n",
      "Root mean square error train 237076.5519671467\n",
      "Root mean square error test 11994199.115795104\n",
      "----------------------------------------\n",
      "BayesianRidge\n",
      "Root mean square error train 232616.4046438305\n",
      "Root mean square error test 11979944.818431804\n",
      "----------------------------------------\n",
      "LinearSVR\n",
      "Root mean square error train 269544.74434151466\n",
      "Root mean square error test 12038456.937655816\n",
      "----------------------------------------\n",
      "SVR\n",
      "Root mean square error train 271897.84064766904\n",
      "Root mean square error test 12040610.82695929\n",
      "----------------------------------------\n",
      "DecisionTreeRegressor\n",
      "Root mean square error train 0.0\n",
      "Root mean square error test 11710901.54407593\n",
      "----------------------------------------\n",
      "ExtraTreeRegressor\n",
      "Root mean square error train 0.0\n",
      "Root mean square error test 11761880.693840692\n",
      "----------------------------------------\n",
      "RandomForestRegressor\n",
      "Root mean square error train 24427.377671143957\n",
      "Root mean square error test 11736408.48703216\n",
      "----------------------------------------\n",
      "GradientBoostingRegressor\n",
      "Root mean square error train 9677.433894872776\n",
      "Root mean square error test 11733993.881165044\n"
     ]
    }
   ],
   "source": [
    "for model in models:\n",
    "    model.fit(X_train,Y_train)\n",
    "    print('-'*40)\n",
    "    print(model.__class__.__name__)\n",
    "    \n",
    "    train_pred = model.predict(X_train)\n",
    "    train_rmse = np.sqrt(mean_squared_error(Y_train, train_pred))\n",
    "    print(\"Root mean square error train {}\".format(train_rmse))    \n",
    "\n",
    "    pred = model.predict(X_test)\n",
    "    rmse = np.sqrt(mean_squared_error(Y_test, pred))\n",
    "    print(\"Root mean square error test {}\".format(rmse))"
   ]
  },
  {
   "cell_type": "code",
   "execution_count": null,
   "metadata": {},
   "outputs": [],
   "source": []
  },
  {
   "cell_type": "markdown",
   "metadata": {},
   "source": [
    "###  Getting the result for test set"
   ]
  },
  {
   "cell_type": "code",
   "execution_count": 340,
   "metadata": {},
   "outputs": [],
   "source": [
    "test = pd.read_csv('./Data/Yes_ml2_test.csv')"
   ]
  },
  {
   "cell_type": "code",
   "execution_count": 341,
   "metadata": {},
   "outputs": [
    {
     "data": {
      "text/plain": [
       "Serial Numer          0\n",
       "Main Office           0\n",
       "Branch Number         0\n",
       "Established Date      0\n",
       "Acquired Date       122\n",
       "City                  0\n",
       "County                0\n",
       "State                 0\n",
       "2010 Deposits         0\n",
       "2011 Deposits         0\n",
       "2012 Deposits         0\n",
       "2013 Deposits         0\n",
       "2014 Deposits         0\n",
       "2015 Deposits         0\n",
       "dtype: int64"
      ]
     },
     "execution_count": 341,
     "metadata": {},
     "output_type": "execute_result"
    }
   ],
   "source": [
    "test.isnull().sum()"
   ]
  },
  {
   "cell_type": "code",
   "execution_count": 342,
   "metadata": {},
   "outputs": [],
   "source": [
    "test = test[ ['Serial Numer','2012 Deposits', '2013 Deposits', '2014 Deposits',\n",
    "       '2015 Deposits']]\n",
    "# mean_imputer = Impute"
   ]
  },
  {
   "cell_type": "code",
   "execution_count": 343,
   "metadata": {},
   "outputs": [],
   "source": [
    "test=  test.replace(0,1)\n",
    "# test=test.dropna()"
   ]
  },
  {
   "cell_type": "code",
   "execution_count": 344,
   "metadata": {},
   "outputs": [],
   "source": [
    "deposits = [ '2012 Deposits', '2013 Deposits', '2014 Deposits',\n",
    "       '2015 Deposits']\n",
    "# mean_imputer = Imputer()   '2010 Deposits','2011 Deposits',\n",
    "# plt.figure(figsize=(15,26))\n",
    "for i, deposit in enumerate(deposits):\n",
    "    year, _ = deposit.split()\n",
    "#     mean_imputed = mean_imputer.fit_transform(train[[deposit]]).ravel()\n",
    "#     med_imputed = median_imputer.fit_transform(train[[deposit]]).ravel()\n",
    "\n",
    "    \n",
    "\n",
    "    \n",
    "    test['log_'+year] = np.log(test[deposit])"
   ]
  },
  {
   "cell_type": "code",
   "execution_count": 345,
   "metadata": {},
   "outputs": [],
   "source": [
    "serial_numer = pd.DataFrame(test['Serial Numer'])\n",
    "test = test[['log_2012','log_2013', 'log_2014',  'log_2015']]\n"
   ]
  },
  {
   "cell_type": "code",
   "execution_count": 337,
   "metadata": {},
   "outputs": [],
   "source": [
    "test = test.replace(-np.inf, 0)"
   ]
  },
  {
   "cell_type": "code",
   "execution_count": 208,
   "metadata": {},
   "outputs": [],
   "source": [
    "test = test.replace(-np.inf, np.nan)\n",
    "# "
   ]
  },
  {
   "cell_type": "code",
   "execution_count": 346,
   "metadata": {},
   "outputs": [
    {
     "data": {
      "text/plain": [
       "log_2012    0\n",
       "log_2013    0\n",
       "log_2014    0\n",
       "log_2015    0\n",
       "dtype: int64"
      ]
     },
     "execution_count": 346,
     "metadata": {},
     "output_type": "execute_result"
    }
   ],
   "source": [
    "test.isnull().sum()"
   ]
  },
  {
   "cell_type": "code",
   "execution_count": 286,
   "metadata": {},
   "outputs": [],
   "source": [
    "test_pred = models[0].predict(test)"
   ]
  },
  {
   "cell_type": "code",
   "execution_count": 287,
   "metadata": {},
   "outputs": [],
   "source": [
    "result = pd.concat([serial_numer['Serial Numer'],pd.Series(test_pred, name='Deposits 2016')], axis =1,)"
   ]
  },
  {
   "cell_type": "code",
   "execution_count": 288,
   "metadata": {},
   "outputs": [],
   "source": [
    "pd.DataFrame.to_csv(result,path_or_buf='./output/resultsML2_yes_11.csv',index=False)"
   ]
  },
  {
   "cell_type": "code",
   "execution_count": 348,
   "metadata": {},
   "outputs": [],
   "source": [
    "for i in range(11):\n",
    "    test_pred = models[i].predict(test)   \n",
    "    result = pd.concat([serial_numer['Serial Numer'],pd.Series(test_pred, name='Deposits 2016')], axis =1,)\n",
    "    pd.DataFrame.to_csv(result,path_or_buf='./output/resultsML2_yes_{}.csv'.format(i),index=False)    \n",
    "    \n",
    "    "
   ]
  },
  {
   "cell_type": "code",
   "execution_count": null,
   "metadata": {},
   "outputs": [],
   "source": []
  },
  {
   "cell_type": "code",
   "execution_count": null,
   "metadata": {},
   "outputs": [],
   "source": []
  },
  {
   "cell_type": "code",
   "execution_count": null,
   "metadata": {},
   "outputs": [],
   "source": []
  },
  {
   "cell_type": "code",
   "execution_count": null,
   "metadata": {},
   "outputs": [],
   "source": []
  },
  {
   "cell_type": "code",
   "execution_count": null,
   "metadata": {},
   "outputs": [],
   "source": []
  },
  {
   "cell_type": "code",
   "execution_count": null,
   "metadata": {},
   "outputs": [],
   "source": []
  },
  {
   "cell_type": "code",
   "execution_count": 28,
   "metadata": {},
   "outputs": [],
   "source": [
    "test['investment'] = test['investment'].replace(np.nan, 'MISSING')"
   ]
  },
  {
   "cell_type": "code",
   "execution_count": 29,
   "metadata": {},
   "outputs": [],
   "source": [
    "test['size'] = test['size'].replace(np.nan, 'MISSING_size')"
   ]
  },
  {
   "cell_type": "code",
   "execution_count": 30,
   "metadata": {},
   "outputs": [],
   "source": [
    "investment_encod = pd.get_dummies(test['investment'])\n",
    "test = test.join(investment_encod)\n",
    "\n",
    "size_encod = pd.get_dummies(test['size'])\n",
    "test = test.join(size_encod)"
   ]
  },
  {
   "cell_type": "code",
   "execution_count": 31,
   "metadata": {},
   "outputs": [],
   "source": [
    "# choose variable mean_annula_3y or standard_deviation_3y with mean/median imputation\n",
    "# choose sharpe_ratio_3y with mena or median imputation\n",
    "\n",
    "mean_imputer = Imputer()\n",
    "median_imputer = Imputer(strategy='median')\n",
    "test['standard_deviation_3y']  = median_imputer.fit_transform(test[['standard_deviation_3y']]).ravel()\n",
    "test['sharpe_ratio_3y']  = median_imputer.fit_transform(test[['sharpe_ratio_3y']]).ravel()\n",
    "\n",
    "# use returns_15 and returns_17 with mean imputations\n",
    "\n",
    "\n",
    "test['returns_2015']  = mean_imputer.fit_transform(test[['returns_2015']]).ravel()\n",
    "test['returns_2017']  = mean_imputer.fit_transform(test[['returns_2017']]).ravel()"
   ]
  },
  {
   "cell_type": "code",
   "execution_count": 32,
   "metadata": {},
   "outputs": [],
   "source": [
    "test['net_annual_expenses_ratio'] = test['net_annual_expenses']"
   ]
  },
  {
   "cell_type": "code",
   "execution_count": 33,
   "metadata": {},
   "outputs": [],
   "source": [
    "test = test[['total_net_assets','net_annual_expenses_ratio', 'morningstar_rating','portfolio_cash', 'portfolio_stocks', 'portfolio_bonds',\n",
    "       'portfolio_others', 'portfolio_preferred', 'portfolio_convertable',\n",
    "       'sectors_basic_materials', 'sectors_consumer_cyclical',\n",
    "       'sectors_financial_services', 'sectors_real_estate',\n",
    "       'sectors_consumer_defensive', 'sectors_healthcare', 'sectors_utilities',\n",
    "       'sectors_communication_services', 'sectors_energy',\n",
    "       'sectors_industrials', 'sectors_technology', 'price_earning','returns_ytd', 'returns_2017',\n",
    "       'returns_2015','morningstar_risk_rating',\n",
    "        'standard_deviation_3y', 'sharpe_ratio_3y',\n",
    "       'MISSING_size', 'Medium', 'Small']]"
   ]
  },
  {
   "cell_type": "code",
   "execution_count": 34,
   "metadata": {},
   "outputs": [],
   "source": [
    "test  = mean_imputer.fit_transform(test)"
   ]
  },
  {
   "cell_type": "code",
   "execution_count": 35,
   "metadata": {},
   "outputs": [],
   "source": [
    "test_pred = models[-3].predict(test)"
   ]
  },
  {
   "cell_type": "code",
   "execution_count": 36,
   "metadata": {},
   "outputs": [],
   "source": [
    "test_sub = pd.read_csv('./Data/Yes_Bank_Test_Data.csv')"
   ]
  },
  {
   "cell_type": "code",
   "execution_count": 37,
   "metadata": {},
   "outputs": [
    {
     "data": {
      "text/plain": [
       "(7621, 48)"
      ]
     },
     "execution_count": 37,
     "metadata": {},
     "output_type": "execute_result"
    }
   ],
   "source": [
    "test_sub.shape"
   ]
  },
  {
   "cell_type": "code",
   "execution_count": 38,
   "metadata": {},
   "outputs": [],
   "source": [
    "result = pd.concat([test_sub['Serial Number'],pd.Series(test_pred, name='bonds_aaa')], axis =1,)\n"
   ]
  },
  {
   "cell_type": "code",
   "execution_count": 39,
   "metadata": {},
   "outputs": [],
   "source": [
    "pd.DataFrame.to_csv(result,path_or_buf='./output/results_yes_3_4.csv',index=False)"
   ]
  },
  {
   "cell_type": "code",
   "execution_count": null,
   "metadata": {},
   "outputs": [],
   "source": []
  },
  {
   "cell_type": "code",
   "execution_count": null,
   "metadata": {},
   "outputs": [],
   "source": []
  },
  {
   "cell_type": "code",
   "execution_count": null,
   "metadata": {},
   "outputs": [],
   "source": []
  },
  {
   "cell_type": "code",
   "execution_count": null,
   "metadata": {},
   "outputs": [],
   "source": []
  },
  {
   "cell_type": "code",
   "execution_count": null,
   "metadata": {},
   "outputs": [],
   "source": []
  },
  {
   "cell_type": "code",
   "execution_count": null,
   "metadata": {},
   "outputs": [],
   "source": []
  },
  {
   "cell_type": "code",
   "execution_count": null,
   "metadata": {},
   "outputs": [],
   "source": []
  },
  {
   "cell_type": "code",
   "execution_count": null,
   "metadata": {},
   "outputs": [],
   "source": []
  },
  {
   "cell_type": "code",
   "execution_count": null,
   "metadata": {},
   "outputs": [],
   "source": []
  },
  {
   "cell_type": "code",
   "execution_count": null,
   "metadata": {},
   "outputs": [],
   "source": []
  },
  {
   "cell_type": "code",
   "execution_count": 2,
   "metadata": {},
   "outputs": [],
   "source": [
    "train = train[train['returns_ytd'].notnull()]"
   ]
  },
  {
   "cell_type": "code",
   "execution_count": 3,
   "metadata": {},
   "outputs": [],
   "source": [
    "train = train[train['portfolio_bonds'].notnull()]\n"
   ]
  },
  {
   "cell_type": "code",
   "execution_count": 4,
   "metadata": {},
   "outputs": [
    {
     "data": {
      "text/plain": [
       "0"
      ]
     },
     "execution_count": 4,
     "metadata": {},
     "output_type": "execute_result"
    }
   ],
   "source": [
    "train['bonds_aaa'].isnull().sum()"
   ]
  },
  {
   "cell_type": "code",
   "execution_count": 5,
   "metadata": {},
   "outputs": [
    {
     "data": {
      "text/plain": [
       "count    17654.000000\n",
       "mean        12.512602\n",
       "std         23.696518\n",
       "min         -7.600000\n",
       "25%          0.000000\n",
       "50%          0.000000\n",
       "75%         13.310000\n",
       "max        104.170000\n",
       "Name: bonds_aaa, dtype: float64"
      ]
     },
     "execution_count": 5,
     "metadata": {},
     "output_type": "execute_result"
    }
   ],
   "source": [
    "train['bonds_aaa'].describe()"
   ]
  },
  {
   "cell_type": "code",
   "execution_count": 6,
   "metadata": {},
   "outputs": [
    {
     "data": {
      "text/plain": [
       "count    17654.000000\n",
       "mean         4.548923\n",
       "std         12.366100\n",
       "min        -11.460000\n",
       "25%          0.000000\n",
       "50%          0.000000\n",
       "75%          2.585000\n",
       "max        177.170000\n",
       "Name: bonds_aa, dtype: float64"
      ]
     },
     "execution_count": 6,
     "metadata": {},
     "output_type": "execute_result"
    }
   ],
   "source": [
    "train['bonds_aa'].describe()"
   ]
  },
  {
   "cell_type": "code",
   "execution_count": 7,
   "metadata": {},
   "outputs": [
    {
     "data": {
      "text/plain": [
       "count    17642.000000\n",
       "mean         1.028833\n",
       "std          0.623832\n",
       "min          0.000000\n",
       "25%          0.630000\n",
       "50%          0.970000\n",
       "75%          1.370000\n",
       "max         19.100000\n",
       "Name: net_annual_expenses_ratio, dtype: float64"
      ]
     },
     "execution_count": 7,
     "metadata": {},
     "output_type": "execute_result"
    }
   ],
   "source": [
    "train['net_annual_expenses_ratio'].describe()"
   ]
  },
  {
   "cell_type": "code",
   "execution_count": 8,
   "metadata": {},
   "outputs": [
    {
     "data": {
      "text/plain": [
       "0"
      ]
     },
     "execution_count": 8,
     "metadata": {},
     "output_type": "execute_result"
    }
   ],
   "source": [
    "train['bonds_aaa'].isnull().sum()"
   ]
  },
  {
   "cell_type": "markdown",
   "metadata": {},
   "source": [
    "### 2 Data exploration and missing value treatment"
   ]
  },
  {
   "cell_type": "code",
   "execution_count": 9,
   "metadata": {},
   "outputs": [],
   "source": [
    "import seaborn as sns\n",
    "import numpy as np"
   ]
  },
  {
   "cell_type": "code",
   "execution_count": 10,
   "metadata": {},
   "outputs": [],
   "source": [
    "train['investment'] = train['investment'].replace(np.nan, 'MISSING')"
   ]
  },
  {
   "cell_type": "code",
   "execution_count": 11,
   "metadata": {},
   "outputs": [],
   "source": [
    "train['size'] = train['size'].replace(np.nan, 'MISSING_size')"
   ]
  },
  {
   "cell_type": "code",
   "execution_count": 12,
   "metadata": {},
   "outputs": [],
   "source": [
    "from sklearn.preprocessing import Imputer"
   ]
  },
  {
   "cell_type": "markdown",
   "metadata": {},
   "source": [
    "#### 2.1 Handelling the categorical variables -- Sum and investment"
   ]
  },
  {
   "cell_type": "code",
   "execution_count": 13,
   "metadata": {},
   "outputs": [],
   "source": [
    "investment_encod = pd.get_dummies(train['investment'])\n",
    "train = train.join(investment_encod)\n",
    "# print(train.describe())"
   ]
  },
  {
   "cell_type": "code",
   "execution_count": 14,
   "metadata": {},
   "outputs": [],
   "source": [
    "investment_encod = pd.get_dummies(train['size'])\n",
    "train = train.join(investment_encod)\n",
    "# print(train.describe())"
   ]
  },
  {
   "cell_type": "code",
   "execution_count": 15,
   "metadata": {},
   "outputs": [
    {
     "data": {
      "text/plain": [
       "Serial Number                        0\n",
       "fund_symbol                          0\n",
       "fund_name                            0\n",
       "category                             0\n",
       "fund_family                          0\n",
       "investment                           0\n",
       "size                                 0\n",
       "total_net_assets                     0\n",
       "currency                             0\n",
       "net_annual_expenses_ratio           12\n",
       "morningstar_rating                   0\n",
       "inception_date                       0\n",
       "portfolio_cash                       0\n",
       "portfolio_stocks                     0\n",
       "portfolio_bonds                      0\n",
       "portfolio_others                     0\n",
       "portfolio_preferred                  0\n",
       "portfolio_convertable                0\n",
       "sectors_basic_materials              0\n",
       "sectors_consumer_cyclical            0\n",
       "sectors_financial_services           0\n",
       "sectors_real_estate                  0\n",
       "sectors_consumer_defensive           0\n",
       "sectors_healthcare                   0\n",
       "sectors_utilities                    0\n",
       "sectors_communication_services       0\n",
       "sectors_energy                       0\n",
       "sectors_industrials                  0\n",
       "sectors_technology                   0\n",
       "price_earning                        0\n",
       "                                  ... \n",
       "bonds_bbb                            0\n",
       "bonds_bb                             0\n",
       "bonds_b                              0\n",
       "bonds_below_b                        0\n",
       "bonds_others                         0\n",
       "morningstar_return_rating            0\n",
       "returns_ytd                          0\n",
       "returns_2017                      1778\n",
       "returns_2016                      2785\n",
       "returns_2015                      3995\n",
       "returns_2014                      5121\n",
       "returns_2013                      6248\n",
       "returns_2012                      7320\n",
       "returns_2011                      8165\n",
       "returns_2010                      8992\n",
       "morningstar_risk_rating              0\n",
       "alpha_3y                          1726\n",
       "beta_3y                           1726\n",
       "mean_annual_return_3y             1726\n",
       "standard_deviation_3y             1726\n",
       "sharpe_ratio_3y                   1726\n",
       "treynor_ratio_3y                  1726\n",
       "Blend                                0\n",
       "Growth                               0\n",
       "MISSING                              0\n",
       "Value                                0\n",
       "Large                                0\n",
       "MISSING_size                         0\n",
       "Medium                               0\n",
       "Small                                0\n",
       "Length: 64, dtype: int64"
      ]
     },
     "execution_count": 15,
     "metadata": {},
     "output_type": "execute_result"
    }
   ],
   "source": [
    "train.isnull().sum()"
   ]
  },
  {
   "cell_type": "markdown",
   "metadata": {},
   "source": [
    "#### 2.2 Performing Imputations - for selected features\n"
   ]
  },
  {
   "cell_type": "code",
   "execution_count": 16,
   "metadata": {},
   "outputs": [],
   "source": [
    "# choose variable mean_annula_3y or standard_deviation_3y with mean/median imputation\n",
    "# choose sharpe_ratio_3y with mena or median imputation\n",
    "\n",
    "mean_imputer = Imputer()\n",
    "median_imputer = Imputer(strategy='median')\n",
    "train['standard_deviation_3y']  = median_imputer.fit_transform(train[['standard_deviation_3y']]).ravel()\n",
    "train['sharpe_ratio_3y']  = median_imputer.fit_transform(train[['sharpe_ratio_3y']]).ravel()\n",
    "\n",
    "# use returns_15 and returns_17 with mean imputations\n",
    "\n",
    "\n",
    "train['returns_2015']  = mean_imputer.fit_transform(train[['returns_2015']]).ravel()\n",
    "train['returns_2017']  = mean_imputer.fit_transform(train[['returns_2017']]).ravel()"
   ]
  },
  {
   "cell_type": "markdown",
   "metadata": {},
   "source": [
    "#### Selecting the feature to build the model"
   ]
  },
  {
   "cell_type": "code",
   "execution_count": 17,
   "metadata": {},
   "outputs": [],
   "source": [
    "train_select = train[['total_net_assets','net_annual_expenses_ratio', 'morningstar_rating','portfolio_cash', 'portfolio_stocks', 'portfolio_bonds',\n",
    "       'portfolio_others', 'portfolio_preferred', 'portfolio_convertable',\n",
    "        'bonds_aaa',\n",
    "       'sectors_basic_materials', 'sectors_consumer_cyclical',\n",
    "       'sectors_financial_services', 'sectors_real_estate',\n",
    "       'sectors_consumer_defensive', 'sectors_healthcare', 'sectors_utilities',\n",
    "       'sectors_communication_services', 'sectors_energy',\n",
    "       'sectors_industrials', 'sectors_technology', 'price_earning','returns_ytd', 'returns_2017',\n",
    "       'returns_2015','morningstar_risk_rating',\n",
    "        'standard_deviation_3y', 'sharpe_ratio_3y',\n",
    "       'MISSING_size', 'Medium', 'Small']]\n",
    "# 'Blend', 'Growth', 'MISSING', 'Value', 'Large',"
   ]
  },
  {
   "cell_type": "markdown",
   "metadata": {},
   "source": [
    "#### Comparing different Regression algorithms"
   ]
  },
  {
   "cell_type": "code",
   "execution_count": 18,
   "metadata": {},
   "outputs": [],
   "source": [
    "from sklearn.model_selection import train_test_split\n",
    "\n",
    "target = train_select['bonds_aaa']\n",
    "predictors = train_select.drop(['bonds_aaa'],axis=1)"
   ]
  },
  {
   "cell_type": "code",
   "execution_count": 19,
   "metadata": {},
   "outputs": [],
   "source": [
    "predictors = median_imputer.fit_transform(predictors)"
   ]
  },
  {
   "cell_type": "code",
   "execution_count": 20,
   "metadata": {},
   "outputs": [],
   "source": [
    "target = median_imputer.fit_transform(train[['bonds_aaa']]).ravel()"
   ]
  },
  {
   "cell_type": "code",
   "execution_count": 21,
   "metadata": {},
   "outputs": [],
   "source": [
    "from sklearn.metrics import mean_absolute_error, mean_squared_error\n",
    "\n",
    "X_train, X_test, Y_train, Y_test = train_test_split(predictors, target, train_size=0.8,test_size=0.2, random_state=7)\n"
   ]
  },
  {
   "cell_type": "code",
   "execution_count": 23,
   "metadata": {},
   "outputs": [],
   "source": [
    "from sklearn import linear_model, svm, tree, ensemble\n",
    "\n",
    "models = [\n",
    "    linear_model.LinearRegression(),\n",
    "    linear_model.Ridge(),\n",
    "    linear_model.Lasso(),\n",
    "    linear_model.ElasticNet(),\n",
    "    linear_model.BayesianRidge(),\n",
    "#     linear_model.RANSACRegressor(),\n",
    "    svm.LinearSVR(),\n",
    "    svm.SVR(),\n",
    "    tree.DecisionTreeRegressor(),\n",
    "    tree.ExtraTreeRegressor(),\n",
    "    ensemble.RandomForestRegressor(),\n",
    "    ensemble.GradientBoostingRegressor()\n",
    "\n",
    "]"
   ]
  },
  {
   "cell_type": "code",
   "execution_count": 24,
   "metadata": {},
   "outputs": [
    {
     "name": "stdout",
     "output_type": "stream",
     "text": [
      "------------------------------\n",
      "LinearRegression\n",
      "Root mean square error train 19.152215563350005\n",
      "Root mean square error test 18.520094824362893\n",
      "------------------------------\n",
      "Ridge\n",
      "Root mean square error train 19.152218941545783\n",
      "Root mean square error test 18.519886909277528\n"
     ]
    },
    {
     "name": "stderr",
     "output_type": "stream",
     "text": [
      "C:\\Users\\amitkumar_kataria\\AppData\\Local\\Continuum\\anaconda3\\lib\\site-packages\\sklearn\\linear_model\\ridge.py:112: LinAlgWarning: scipy.linalg.solve\n",
      "Ill-conditioned matrix detected. Result is not guaranteed to be accurate.\n",
      "Reciprocal condition number1.960428e-22\n",
      "  overwrite_a=True).T\n"
     ]
    },
    {
     "name": "stdout",
     "output_type": "stream",
     "text": [
      "------------------------------\n",
      "Lasso\n",
      "Root mean square error train 20.468657699488862\n",
      "Root mean square error test 19.626710657679723\n",
      "------------------------------\n",
      "ElasticNet\n",
      "Root mean square error train 20.520837025374224\n",
      "Root mean square error test 19.666556808849574\n",
      "------------------------------\n",
      "BayesianRidge\n",
      "Root mean square error train 19.15244185027426\n",
      "Root mean square error test 18.518579682420587\n",
      "------------------------------\n",
      "LinearSVR\n",
      "Root mean square error train 761247.4590919425\n",
      "Root mean square error test 629254.368469513\n",
      "------------------------------\n",
      "SVR\n",
      "Root mean square error train 24.015482832611983\n",
      "Root mean square error test 22.72567642408247\n",
      "------------------------------\n",
      "DecisionTreeRegressor\n",
      "Root mean square error train 1.8000774049971332e-15\n",
      "Root mean square error test 1.79417246503836e-15\n",
      "------------------------------\n",
      "ExtraTreeRegressor\n",
      "Root mean square error train 1.661901196390451e-15\n",
      "Root mean square error test 1.6806659122121832e-15\n",
      "------------------------------\n",
      "RandomForestRegressor\n",
      "Root mean square error train 2.8804463188653524\n",
      "Root mean square error test 3.019524692800724\n",
      "------------------------------\n",
      "GradientBoostingRegressor\n",
      "Root mean square error train 13.313515999421764\n",
      "Root mean square error test 13.122064339918683\n"
     ]
    }
   ],
   "source": [
    "for model in models:\n",
    "    model.fit(predictors,target)\n",
    "    print('-'*30)\n",
    "    print(model.__class__.__name__)\n",
    "    \n",
    "    train_pred = model.predict(predictors)\n",
    "    train_rmse = np.sqrt(mean_squared_error(target, train_pred))\n",
    "    print(\"Root mean square error train {}\".format(train_rmse))    \n",
    "\n",
    "    pred = model.predict(X_test)\n",
    "    rmse = np.sqrt(mean_squared_error(Y_test, pred))\n",
    "    print(\"Root mean square error test {}\".format(rmse))"
   ]
  },
  {
   "cell_type": "markdown",
   "metadata": {},
   "source": [
    "### Getting the result for the test data set"
   ]
  }
 ],
 "metadata": {
  "kernelspec": {
   "display_name": "Python 3",
   "language": "python",
   "name": "python3"
  },
  "language_info": {
   "codemirror_mode": {
    "name": "ipython",
    "version": 3
   },
   "file_extension": ".py",
   "mimetype": "text/x-python",
   "name": "python",
   "nbconvert_exporter": "python",
   "pygments_lexer": "ipython3",
   "version": "3.6.5"
  }
 },
 "nbformat": 4,
 "nbformat_minor": 2
}
